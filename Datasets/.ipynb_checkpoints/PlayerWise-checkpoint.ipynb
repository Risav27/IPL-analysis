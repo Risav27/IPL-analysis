{
 "cells": [
  {
   "cell_type": "code",
   "execution_count": 1,
   "id": "4f1e9d16",
   "metadata": {},
   "outputs": [
    {
     "name": "stderr",
     "output_type": "stream",
     "text": [
      "C:\\Users\\RISAV KUMAR JANA\\AppData\\Local\\Programs\\Python\\Python310\\lib\\site-packages\\scipy\\__init__.py:155: UserWarning: A NumPy version >=1.18.5 and <1.25.0 is required for this version of SciPy (detected version 1.26.0\n",
      "  warnings.warn(f\"A NumPy version >={np_minversion} and <{np_maxversion}\"\n"
     ]
    }
   ],
   "source": [
    "import pandas as pd\n",
    "import numpy as np\n",
    "import seaborn as sns\n",
    "import matplotlib.pyplot as plt\n",
    "import plotly.express as px"
   ]
  },
  {
   "cell_type": "code",
   "execution_count": 2,
   "id": "9d08c260",
   "metadata": {},
   "outputs": [],
   "source": [
    "df = pd.read_csv('AllMatch.csv')\n",
    "df_match = pd.read_csv(\"matches.csv\")"
   ]
  },
  {
   "cell_type": "code",
   "execution_count": 3,
   "id": "0510583b",
   "metadata": {},
   "outputs": [],
   "source": [
    "clm = (df_match['date'][:].str[:4])\n",
    "clm = clm.astype(int)\n",
    "df_match['season'] = clm\n",
    "season = df_match[['id', 'season']]\n",
    "df = df.merge(season, on='id')"
   ]
  },
  {
   "cell_type": "code",
   "execution_count": 4,
   "id": "8b76a9da",
   "metadata": {},
   "outputs": [
    {
     "data": {
      "text/html": [
       "<div>\n",
       "<style scoped>\n",
       "    .dataframe tbody tr th:only-of-type {\n",
       "        vertical-align: middle;\n",
       "    }\n",
       "\n",
       "    .dataframe tbody tr th {\n",
       "        vertical-align: top;\n",
       "    }\n",
       "\n",
       "    .dataframe thead th {\n",
       "        text-align: right;\n",
       "    }\n",
       "</style>\n",
       "<table border=\"1\" class=\"dataframe\">\n",
       "  <thead>\n",
       "    <tr style=\"text-align: right;\">\n",
       "      <th></th>\n",
       "      <th>id</th>\n",
       "      <th>inning</th>\n",
       "      <th>over</th>\n",
       "      <th>ball</th>\n",
       "      <th>batsman</th>\n",
       "      <th>non_striker</th>\n",
       "      <th>bowler</th>\n",
       "      <th>batsman_runs</th>\n",
       "      <th>extra_runs</th>\n",
       "      <th>total_runs</th>\n",
       "      <th>non_boundary</th>\n",
       "      <th>is_wicket</th>\n",
       "      <th>dismissal_kind</th>\n",
       "      <th>player_dismissed</th>\n",
       "      <th>fielder</th>\n",
       "      <th>extras_type</th>\n",
       "      <th>batting_team</th>\n",
       "      <th>bowling_team</th>\n",
       "      <th>season</th>\n",
       "    </tr>\n",
       "  </thead>\n",
       "  <tbody>\n",
       "    <tr>\n",
       "      <th>0</th>\n",
       "      <td>335982</td>\n",
       "      <td>1</td>\n",
       "      <td>6</td>\n",
       "      <td>5</td>\n",
       "      <td>RT Ponting</td>\n",
       "      <td>BB McCullum</td>\n",
       "      <td>AA Noffke</td>\n",
       "      <td>1</td>\n",
       "      <td>0</td>\n",
       "      <td>1</td>\n",
       "      <td>0</td>\n",
       "      <td>0</td>\n",
       "      <td>NaN</td>\n",
       "      <td>NaN</td>\n",
       "      <td>NaN</td>\n",
       "      <td>NaN</td>\n",
       "      <td>Kolkata Knight Riders</td>\n",
       "      <td>Royal Challengers Bangalore</td>\n",
       "      <td>2008</td>\n",
       "    </tr>\n",
       "    <tr>\n",
       "      <th>1</th>\n",
       "      <td>335982</td>\n",
       "      <td>1</td>\n",
       "      <td>6</td>\n",
       "      <td>6</td>\n",
       "      <td>BB McCullum</td>\n",
       "      <td>RT Ponting</td>\n",
       "      <td>AA Noffke</td>\n",
       "      <td>1</td>\n",
       "      <td>0</td>\n",
       "      <td>1</td>\n",
       "      <td>0</td>\n",
       "      <td>0</td>\n",
       "      <td>NaN</td>\n",
       "      <td>NaN</td>\n",
       "      <td>NaN</td>\n",
       "      <td>NaN</td>\n",
       "      <td>Kolkata Knight Riders</td>\n",
       "      <td>Royal Challengers Bangalore</td>\n",
       "      <td>2008</td>\n",
       "    </tr>\n",
       "    <tr>\n",
       "      <th>2</th>\n",
       "      <td>335982</td>\n",
       "      <td>1</td>\n",
       "      <td>7</td>\n",
       "      <td>1</td>\n",
       "      <td>BB McCullum</td>\n",
       "      <td>RT Ponting</td>\n",
       "      <td>Z Khan</td>\n",
       "      <td>0</td>\n",
       "      <td>0</td>\n",
       "      <td>0</td>\n",
       "      <td>0</td>\n",
       "      <td>0</td>\n",
       "      <td>NaN</td>\n",
       "      <td>NaN</td>\n",
       "      <td>NaN</td>\n",
       "      <td>NaN</td>\n",
       "      <td>Kolkata Knight Riders</td>\n",
       "      <td>Royal Challengers Bangalore</td>\n",
       "      <td>2008</td>\n",
       "    </tr>\n",
       "    <tr>\n",
       "      <th>3</th>\n",
       "      <td>335982</td>\n",
       "      <td>1</td>\n",
       "      <td>7</td>\n",
       "      <td>2</td>\n",
       "      <td>BB McCullum</td>\n",
       "      <td>RT Ponting</td>\n",
       "      <td>Z Khan</td>\n",
       "      <td>1</td>\n",
       "      <td>0</td>\n",
       "      <td>1</td>\n",
       "      <td>0</td>\n",
       "      <td>0</td>\n",
       "      <td>NaN</td>\n",
       "      <td>NaN</td>\n",
       "      <td>NaN</td>\n",
       "      <td>NaN</td>\n",
       "      <td>Kolkata Knight Riders</td>\n",
       "      <td>Royal Challengers Bangalore</td>\n",
       "      <td>2008</td>\n",
       "    </tr>\n",
       "    <tr>\n",
       "      <th>4</th>\n",
       "      <td>335982</td>\n",
       "      <td>1</td>\n",
       "      <td>7</td>\n",
       "      <td>3</td>\n",
       "      <td>RT Ponting</td>\n",
       "      <td>BB McCullum</td>\n",
       "      <td>Z Khan</td>\n",
       "      <td>1</td>\n",
       "      <td>0</td>\n",
       "      <td>1</td>\n",
       "      <td>0</td>\n",
       "      <td>0</td>\n",
       "      <td>NaN</td>\n",
       "      <td>NaN</td>\n",
       "      <td>NaN</td>\n",
       "      <td>NaN</td>\n",
       "      <td>Kolkata Knight Riders</td>\n",
       "      <td>Royal Challengers Bangalore</td>\n",
       "      <td>2008</td>\n",
       "    </tr>\n",
       "    <tr>\n",
       "      <th>...</th>\n",
       "      <td>...</td>\n",
       "      <td>...</td>\n",
       "      <td>...</td>\n",
       "      <td>...</td>\n",
       "      <td>...</td>\n",
       "      <td>...</td>\n",
       "      <td>...</td>\n",
       "      <td>...</td>\n",
       "      <td>...</td>\n",
       "      <td>...</td>\n",
       "      <td>...</td>\n",
       "      <td>...</td>\n",
       "      <td>...</td>\n",
       "      <td>...</td>\n",
       "      <td>...</td>\n",
       "      <td>...</td>\n",
       "      <td>...</td>\n",
       "      <td>...</td>\n",
       "      <td>...</td>\n",
       "    </tr>\n",
       "    <tr>\n",
       "      <th>193463</th>\n",
       "      <td>1237181</td>\n",
       "      <td>1</td>\n",
       "      <td>12</td>\n",
       "      <td>5</td>\n",
       "      <td>RR Pant</td>\n",
       "      <td>SS Iyer</td>\n",
       "      <td>NM Coulter-Nile</td>\n",
       "      <td>0</td>\n",
       "      <td>0</td>\n",
       "      <td>0</td>\n",
       "      <td>0</td>\n",
       "      <td>0</td>\n",
       "      <td>NaN</td>\n",
       "      <td>NaN</td>\n",
       "      <td>NaN</td>\n",
       "      <td>NaN</td>\n",
       "      <td>Delhi Capitals</td>\n",
       "      <td>Mumbai Indians</td>\n",
       "      <td>2020</td>\n",
       "    </tr>\n",
       "    <tr>\n",
       "      <th>193464</th>\n",
       "      <td>1237181</td>\n",
       "      <td>1</td>\n",
       "      <td>12</td>\n",
       "      <td>6</td>\n",
       "      <td>RR Pant</td>\n",
       "      <td>SS Iyer</td>\n",
       "      <td>NM Coulter-Nile</td>\n",
       "      <td>1</td>\n",
       "      <td>0</td>\n",
       "      <td>1</td>\n",
       "      <td>0</td>\n",
       "      <td>0</td>\n",
       "      <td>NaN</td>\n",
       "      <td>NaN</td>\n",
       "      <td>NaN</td>\n",
       "      <td>NaN</td>\n",
       "      <td>Delhi Capitals</td>\n",
       "      <td>Mumbai Indians</td>\n",
       "      <td>2020</td>\n",
       "    </tr>\n",
       "    <tr>\n",
       "      <th>193465</th>\n",
       "      <td>1237181</td>\n",
       "      <td>1</td>\n",
       "      <td>13</td>\n",
       "      <td>1</td>\n",
       "      <td>RR Pant</td>\n",
       "      <td>SS Iyer</td>\n",
       "      <td>KH Pandya</td>\n",
       "      <td>0</td>\n",
       "      <td>1</td>\n",
       "      <td>1</td>\n",
       "      <td>0</td>\n",
       "      <td>0</td>\n",
       "      <td>NaN</td>\n",
       "      <td>NaN</td>\n",
       "      <td>NaN</td>\n",
       "      <td>wides</td>\n",
       "      <td>Delhi Capitals</td>\n",
       "      <td>Mumbai Indians</td>\n",
       "      <td>2020</td>\n",
       "    </tr>\n",
       "    <tr>\n",
       "      <th>193466</th>\n",
       "      <td>1237181</td>\n",
       "      <td>1</td>\n",
       "      <td>13</td>\n",
       "      <td>2</td>\n",
       "      <td>RR Pant</td>\n",
       "      <td>SS Iyer</td>\n",
       "      <td>KH Pandya</td>\n",
       "      <td>1</td>\n",
       "      <td>0</td>\n",
       "      <td>1</td>\n",
       "      <td>0</td>\n",
       "      <td>0</td>\n",
       "      <td>NaN</td>\n",
       "      <td>NaN</td>\n",
       "      <td>NaN</td>\n",
       "      <td>NaN</td>\n",
       "      <td>Delhi Capitals</td>\n",
       "      <td>Mumbai Indians</td>\n",
       "      <td>2020</td>\n",
       "    </tr>\n",
       "    <tr>\n",
       "      <th>193467</th>\n",
       "      <td>1237181</td>\n",
       "      <td>1</td>\n",
       "      <td>13</td>\n",
       "      <td>3</td>\n",
       "      <td>SS Iyer</td>\n",
       "      <td>RR Pant</td>\n",
       "      <td>KH Pandya</td>\n",
       "      <td>1</td>\n",
       "      <td>0</td>\n",
       "      <td>1</td>\n",
       "      <td>0</td>\n",
       "      <td>0</td>\n",
       "      <td>NaN</td>\n",
       "      <td>NaN</td>\n",
       "      <td>NaN</td>\n",
       "      <td>NaN</td>\n",
       "      <td>Delhi Capitals</td>\n",
       "      <td>Mumbai Indians</td>\n",
       "      <td>2020</td>\n",
       "    </tr>\n",
       "  </tbody>\n",
       "</table>\n",
       "<p>193468 rows × 19 columns</p>\n",
       "</div>"
      ],
      "text/plain": [
       "             id  inning  over  ball      batsman  non_striker  \\\n",
       "0        335982       1     6     5   RT Ponting  BB McCullum   \n",
       "1        335982       1     6     6  BB McCullum   RT Ponting   \n",
       "2        335982       1     7     1  BB McCullum   RT Ponting   \n",
       "3        335982       1     7     2  BB McCullum   RT Ponting   \n",
       "4        335982       1     7     3   RT Ponting  BB McCullum   \n",
       "...         ...     ...   ...   ...          ...          ...   \n",
       "193463  1237181       1    12     5      RR Pant      SS Iyer   \n",
       "193464  1237181       1    12     6      RR Pant      SS Iyer   \n",
       "193465  1237181       1    13     1      RR Pant      SS Iyer   \n",
       "193466  1237181       1    13     2      RR Pant      SS Iyer   \n",
       "193467  1237181       1    13     3      SS Iyer      RR Pant   \n",
       "\n",
       "                 bowler  batsman_runs  extra_runs  total_runs  non_boundary  \\\n",
       "0             AA Noffke             1           0           1             0   \n",
       "1             AA Noffke             1           0           1             0   \n",
       "2                Z Khan             0           0           0             0   \n",
       "3                Z Khan             1           0           1             0   \n",
       "4                Z Khan             1           0           1             0   \n",
       "...                 ...           ...         ...         ...           ...   \n",
       "193463  NM Coulter-Nile             0           0           0             0   \n",
       "193464  NM Coulter-Nile             1           0           1             0   \n",
       "193465        KH Pandya             0           1           1             0   \n",
       "193466        KH Pandya             1           0           1             0   \n",
       "193467        KH Pandya             1           0           1             0   \n",
       "\n",
       "        is_wicket dismissal_kind player_dismissed fielder extras_type  \\\n",
       "0               0            NaN              NaN     NaN         NaN   \n",
       "1               0            NaN              NaN     NaN         NaN   \n",
       "2               0            NaN              NaN     NaN         NaN   \n",
       "3               0            NaN              NaN     NaN         NaN   \n",
       "4               0            NaN              NaN     NaN         NaN   \n",
       "...           ...            ...              ...     ...         ...   \n",
       "193463          0            NaN              NaN     NaN         NaN   \n",
       "193464          0            NaN              NaN     NaN         NaN   \n",
       "193465          0            NaN              NaN     NaN       wides   \n",
       "193466          0            NaN              NaN     NaN         NaN   \n",
       "193467          0            NaN              NaN     NaN         NaN   \n",
       "\n",
       "                 batting_team                 bowling_team  season  \n",
       "0       Kolkata Knight Riders  Royal Challengers Bangalore    2008  \n",
       "1       Kolkata Knight Riders  Royal Challengers Bangalore    2008  \n",
       "2       Kolkata Knight Riders  Royal Challengers Bangalore    2008  \n",
       "3       Kolkata Knight Riders  Royal Challengers Bangalore    2008  \n",
       "4       Kolkata Knight Riders  Royal Challengers Bangalore    2008  \n",
       "...                       ...                          ...     ...  \n",
       "193463         Delhi Capitals               Mumbai Indians    2020  \n",
       "193464         Delhi Capitals               Mumbai Indians    2020  \n",
       "193465         Delhi Capitals               Mumbai Indians    2020  \n",
       "193466         Delhi Capitals               Mumbai Indians    2020  \n",
       "193467         Delhi Capitals               Mumbai Indians    2020  \n",
       "\n",
       "[193468 rows x 19 columns]"
      ]
     },
     "execution_count": 4,
     "metadata": {},
     "output_type": "execute_result"
    }
   ],
   "source": [
    "df"
   ]
  },
  {
   "cell_type": "code",
   "execution_count": 5,
   "id": "e4ee0d0e",
   "metadata": {},
   "outputs": [
    {
     "data": {
      "text/plain": [
       "array(['RT Ponting', 'BB McCullum', 'DJ Hussey', 'Mohammad Hafeez',\n",
       "       'SC Ganguly', 'CL White', 'MV Boucher', 'B Akhil', 'AA Noffke',\n",
       "       'P Kumar', 'Z Khan', 'SB Joshi', 'W Jaffer', 'JH Kallis',\n",
       "       'R Dravid', 'V Kohli', 'K Goel', 'MEK Hussey', 'JR Hopes',\n",
       "       'SK Raina', 'JDP Oram', 'S Badrinath', 'PA Patel', 'ML Hayden',\n",
       "       'MS Dhoni', 'KC Sangakkara', 'Yuvraj Singh', 'SM Katich',\n",
       "       'IK Pathan', 'T Kohli', 'YK Pathan', 'S Dhawan', 'G Gambhir',\n",
       "       'SK Warne', 'D Salunkhe', 'SK Trivedi', 'V Sehwag', 'SR Watson',\n",
       "       'M Kaif', 'DS Lehmann', 'RA Jadeja', 'M Rawat', 'L Ronchi',\n",
       "       'ST Jayasuriya', 'DJ Thornely', 'RV Uthappa', 'PR Shah',\n",
       "       'AM Nayar', 'SM Pollock', 'Harbhajan Singh', 'S Chanderpaul',\n",
       "       'LRPL Taylor', 'WP Saha', 'AS Yadav', 'A Symonds', 'SB Bangar',\n",
       "       'WPUJC Vaas', 'RP Singh', 'AC Gilchrist', 'Y Venugopal Rao',\n",
       "       'VVS Laxman', 'RG Sharma', 'SB Styris', 'LR Shukla', 'PP Chawla',\n",
       "       'Kamran Akmal', 'DPMD Jayawardene', 'S Sohal', 'B Lee', 'WA Mota',\n",
       "       'Shahid Afridi', 'DJ Bravo', 'A Nehra', 'MA Khote', 'GC Smith',\n",
       "       'Pankaj Singh', 'S Sreesanth', 'VRV Singh', 'SS Tiwary',\n",
       "       'RR Sarwan', 'DS Kulkarni', 'R Vinay Kumar', 'M Kartik',\n",
       "       'I Sharma', 'AB Agarkar', 'AM Rahane', 'TM Srivastava',\n",
       "       'Shoaib Malik', 'MK Tiwary', 'KD Karthik', 'R Bhatia',\n",
       "       'MF Maharoof', 'VY Mahesh', 'B Chipli', 'DW Steyn', 'DB Das',\n",
       "       'MK Pandey', 'HH Gibbs', 'DNT Zoysa', 'D Kalyankrishna',\n",
       "       'SE Marsh', 'SA Asnodkar', 'BJ Hodge', 'Sohail Tanvir',\n",
       "       'Salman Butt', 'Umar Gul', 'AB Dinda', 'AB de Villiers',\n",
       "       'SP Fleming', 'S Vidyut', 'JA Morkel', 'LPC Silva', 'DB Ravi Teja',\n",
       "       'Misbah-ul-Haq', 'PJ Sangwan', 'YV Takawale', 'RR Raje',\n",
       "       'Mohammad Asif', 'GD McGrath', 'Joginder Sharma', 'MS Gony',\n",
       "       'M Muralitharan', 'M Ntini', 'DT Patil', 'A Kumble', 'S Anirudha',\n",
       "       'MM Patel', 'CK Kapugedera', 'A Chopra', 'T Taibu', 'J Arunkumar',\n",
       "       'PP Ojha', 'SP Goswami', 'SR Tendulkar', 'U Kaul', 'Niraj Patel',\n",
       "       'AD Mascarenhas', 'TM Dilshan', 'A Mishra', 'LA Pomersbach',\n",
       "       'Iqbal Abdulla', 'Younis Khan', 'PM Sarvesh Kumar',\n",
       "       'DP Vijaykumar', 'Shoaib Akhtar', 'Abdur Razzak', 'H Das',\n",
       "       'DR Smith', 'SD Chitnis', 'CRD Fernando', 'VS Yeligati',\n",
       "       'L Balaji', 'A Mukund', 'RR Powar', 'JP Duminy', 'A Flintoff',\n",
       "       'T Thushara', 'KP Pietersen', 'JD Ryder', 'T Henderson',\n",
       "       'Kamran Khan', 'RS Bopara', 'MC Henriques', 'CH Gayle',\n",
       "       'R Bishnoi', 'KV Sharma', 'FH Edwards', 'AS Raut', 'PC Valthaty',\n",
       "       'RJ Quiney', 'Yashpal Singh', 'M Manhas', 'AA Bilakhia',\n",
       "       'AN Ghosh', 'BAW Mendis', 'DL Vettori', 'MN van Wyk',\n",
       "       'RE van der Merwe', 'TL Suman', 'Shoaib Ahmed', 'GR Napier',\n",
       "       'KP Appanna', 'LA Carseldine', 'NV Ojha', 'SM Harwood', 'M Vijay',\n",
       "       'DA Warner', 'SB Jakati', 'RJ Harris', 'D du Preez', 'M Morkel',\n",
       "       'AD Mathews', 'SL Malinga', 'C Nanda', 'J Botha',\n",
       "       'Mashrafe Mortaza', 'A Singh', 'GJ Bailey', 'AB McDonald',\n",
       "       'Y Nagar', 'SS Shaikh', 'R Ashwin', 'Mohammad Ashraful',\n",
       "       'Jaskaran Singh', 'Anirudh Singh', 'CA Pujara', 'OA Shah',\n",
       "       'AP Tare', 'AT Rayudu', 'R Sathish', 'R McLaren',\n",
       "       'AA Jhunjhunwala', 'P Dogra', 'A Uniyal', 'MS Bisla', 'YA Abdulla',\n",
       "       'EJG Morgan', 'JM Kemp', 'S Tyagi', 'RS Gavaskar', 'SE Bond',\n",
       "       'S Ladda', 'DP Nannes', 'KA Pollard', 'DR Martyn', 'S Narwal',\n",
       "       'MJ Lumb', 'Bipul Sharma', 'AB Barath', 'FY Fazal', 'AC Voges',\n",
       "       'MD Mishra', 'UT Yadav', 'J Theron', 'SJ Srivastava', 'R Sharma',\n",
       "       'Mandeep Singh', 'KM Jadhav', 'SW Tait', 'KB Arun Karthik',\n",
       "       'KAJ Roach', 'PD Collingwood', 'CK Langeveldt', 'VS Malik',\n",
       "       'A Mithun', 'AP Dole', 'AN Ahmed', 'RS Sodhi', 'DE Bollinger',\n",
       "       'S Sriram', 'B Sumanth', 'C Madan', 'AG Paunikar', 'MR Marsh',\n",
       "       'AJ Finch', 'STR Binny', 'Harmeet Singh', 'IR Jaggi',\n",
       "       'DT Christian', 'MA Agarwal', 'RV Gomez', 'AUK Pathan',\n",
       "       'UBT Chand', 'DJ Jacobs', 'NJ Rimmington', 'Sunny Singh',\n",
       "       'AL Menaria', 'WD Parnell', 'JJ van der Wath', 'R Ninan',\n",
       "       'S Aravind', 'MS Wade', 'TD Paine', 'JEC Franklin', 'SB Wagh',\n",
       "       'AC Thomas', 'Shakib Al Hasan', 'DH Yagnik', 'S Randiv',\n",
       "       'BJ Haddin', 'NLTC Perera', 'NL McCullum', 'JE Taylor',\n",
       "       'J Syed Mohammad', 'RN ten Doeschate', 'TR Birt', 'AG Murtaza',\n",
       "       'Harpreet Singh', 'M Klinger', 'AC Blizzard', 'I Malhotra',\n",
       "       'L Ablish', 'CA Ingram', 'S Nadeem', 'P Parameswaran',\n",
       "       'CJ Ferguson', 'VR Aaron', 'AA Chavan', 'ND Doshi', 'B Kumar',\n",
       "       'Y Gnaneswara Rao', 'S Rana', 'BA Bhatt', 'F du Plessis',\n",
       "       'RE Levi', 'GJ Maxwell', 'SPD Smith', 'SA Yadav', 'MN Samuels',\n",
       "       'KK Cooper', 'JP Faulkner', 'HV Patel', 'DAJ Bracewell',\n",
       "       'DJ Harris', 'Ankit Sharma', 'SP Narine', 'GB Hogg', 'RR Bhatkal',\n",
       "       'CJ McKay', 'N Saini', 'DA Miller', 'Azhar Mahmood', 'P Negi',\n",
       "       'RJ Peterson', 'KMDN Kulasekara', 'A Ashish Reddy',\n",
       "       'V Pratap Singh', 'BB Samantray', 'MJ Clarke', 'Gurkeerat Singh',\n",
       "       'AP Majumdar', 'PA Reddy', 'K Upadhyay', 'P Awana', 'AD Russell',\n",
       "       'A Chandila', 'CA Lynn', 'Sunny Gupta', 'MC Juneja', 'KK Nair',\n",
       "       'GH Vihari', 'R Shukla', 'MDKJ Perera', 'AS Rajpoot', 'B Laughlin',\n",
       "       'M Vohra', 'JD Unadkat', 'Mohammed Shami', 'BMAJ Mendis',\n",
       "       'R Rampaul', 'CH Morris', 'SV Samson', 'SMSM Senanayake',\n",
       "       'BJ Rohrer', 'KL Rahul', 'Q de Kock', 'R Dhawan', 'MG Johnson',\n",
       "       'LJ Wright', 'IC Pandey', 'CM Gautam', 'X Thalaivan Sargunam',\n",
       "       'DJG Sammy', 'KW Richardson', 'MM Sharma', 'UA Birla',\n",
       "       'Parvez Rasool', 'Sandeep Sharma', 'S Kaul', 'Sachin Baby',\n",
       "       'PV Tambe', 'NM Coulter-Nile', 'CJ Anderson', 'NJ Maddinson',\n",
       "       'AR Patel', 'JJ Bumrah', 'JDS Neesham', 'TG Southee', 'MA Starc',\n",
       "       'BR Dunk', 'RR Rossouw', 'Shivam Sharma', 'YS Chahal',\n",
       "       'LMP Simmons', 'VH Zol', 'Imran Tahir', 'BCJ Cutting',\n",
       "       'BE Hendricks', 'S Gopal', 'M de Lange', 'R Tewatia', 'JO Holder',\n",
       "       'Karanveer Singh', 'SS Iyer', 'DJ Hooda', 'Anureet Singh',\n",
       "       'KS Williamson', 'SA Abbott', 'J Suchith', 'RG More', 'D Wiese',\n",
       "       'HH Pandya', 'SN Khan', 'MJ McClenaghan', 'DJ Muthuswami',\n",
       "       'PJ Cummins', 'SN Thakur', 'JC Buttler', 'CR Brathwaite',\n",
       "       'MP Stoinis', 'Ishan Kishan', 'C Munro', 'P Sahu', 'KH Pandya',\n",
       "       'AD Nath', 'MJ Guptill', 'KJ Abbott', 'TM Head', 'M Ashwin',\n",
       "       'NS Naik', 'RR Pant', 'SW Billings', 'KC Cariappa',\n",
       "       'PSP Handscomb', 'Swapnil Singh', 'J Yadav', 'UT Khawaja',\n",
       "       'HM Amla', 'F Behardien', 'A Zampa', 'BB Sran', 'N Rana',\n",
       "       'S Kaushik', 'ER Dwivedi', 'CJ Jordan', 'A Choudhary', 'TS Mills',\n",
       "       'BA Stokes', 'JJ Roy', 'Vishnu Vinod', 'Basil Thampi', 'CR Woakes',\n",
       "       'RA Tripathi', 'DL Chahar', 'V Shankar', 'Rashid Khan',\n",
       "       'LH Ferguson', 'RD Chahar', 'C de Grandhomme', 'AF Milne',\n",
       "       'S Badree', 'Mohammad Nabi', 'AJ Tye', 'K Rabada', 'Kuldeep Yadav',\n",
       "       'Washington Sundar', 'DM Bravo', 'AR Bawne', 'SP Jackson',\n",
       "       'Ankit Soni', 'TA Boult', 'E Lewis', 'MA Wood', 'RK Singh',\n",
       "       'DJM Short', 'K Gowtham', 'TK Curran', 'M Markande', 'B Stanlake',\n",
       "       'Mujeeb Ur Rahman', 'A Dananjaya', 'Shivam Mavi', 'Shubman Gill',\n",
       "       'Mohammed Siraj', 'H Klaasen', 'RK Bhui', 'JC Archer', 'PP Shaw',\n",
       "       'LE Plunkett', 'Mustafizur Rahman', 'AD Hales', 'MK Lomror',\n",
       "       'DR Shorey', 'MM Ali', 'M Prasidh Krishna', 'P Chopra',\n",
       "       'JPR Scantlebury-Searles', 'Abhishek Sharma', 'IS Sodhi',\n",
       "       'SO Hetmyer', 'S Dube', 'NA Saini', 'JM Bairstow', 'Rasikh Salam',\n",
       "       'KMA Paul', 'N Pooran', 'P Ray Barman', 'S Lamichhane',\n",
       "       'SM Curran', 'GC Viljoen', 'Avesh Khan', 'HF Gurney', 'SD Lad',\n",
       "       'AS Joseph', 'MJ Santner', 'R Parag', 'JL Denly', 'LS Livingstone',\n",
       "       'KK Ahmed', 'AJ Turner', 'SE Rutherford', 'Harpreet Brar',\n",
       "       'Y Prithvi Raj', 'P Simran Singh', 'JL Pattinson', 'A Nortje',\n",
       "       'T Banton', 'D Padikkal', 'YBK Jaiswal', 'RD Gaikwad',\n",
       "       'TU Deshpande', 'Abdul Samad', 'PK Garg', 'JR Philippe',\n",
       "       'Kartik Tyagi', 'CV Varun', 'KL Nagarkoti', 'I Udana',\n",
       "       'Ravi Bishnoi', 'Shahbaz Ahmed', 'AT Carey', 'N Jagadeesan',\n",
       "       'T Natarajan', 'P Dubey', 'SS Cottrell', 'Arshdeep Singh',\n",
       "       'DR Sams'], dtype=object)"
      ]
     },
     "execution_count": 5,
     "metadata": {},
     "output_type": "execute_result"
    }
   ],
   "source": [
    "df.batsman.unique()"
   ]
  },
  {
   "cell_type": "code",
   "execution_count": 6,
   "id": "a5115e7b",
   "metadata": {},
   "outputs": [],
   "source": [
    "bman = 'RG Sharma'"
   ]
  },
  {
   "cell_type": "code",
   "execution_count": 7,
   "id": "f06bb856",
   "metadata": {},
   "outputs": [],
   "source": [
    "df_bman = df[df['batsman'] == bman]"
   ]
  },
  {
   "cell_type": "code",
   "execution_count": 8,
   "id": "36a0950e",
   "metadata": {},
   "outputs": [
    {
     "data": {
      "text/html": [
       "<div>\n",
       "<style scoped>\n",
       "    .dataframe tbody tr th:only-of-type {\n",
       "        vertical-align: middle;\n",
       "    }\n",
       "\n",
       "    .dataframe tbody tr th {\n",
       "        vertical-align: top;\n",
       "    }\n",
       "\n",
       "    .dataframe thead th {\n",
       "        text-align: right;\n",
       "    }\n",
       "</style>\n",
       "<table border=\"1\" class=\"dataframe\">\n",
       "  <thead>\n",
       "    <tr style=\"text-align: right;\">\n",
       "      <th></th>\n",
       "      <th>id</th>\n",
       "      <th>batsman_runs</th>\n",
       "    </tr>\n",
       "  </thead>\n",
       "  <tbody>\n",
       "    <tr>\n",
       "      <th>0</th>\n",
       "      <td>548363</td>\n",
       "      <td>109</td>\n",
       "    </tr>\n",
       "    <tr>\n",
       "      <th>1</th>\n",
       "      <td>829705</td>\n",
       "      <td>98</td>\n",
       "    </tr>\n",
       "    <tr>\n",
       "      <th>2</th>\n",
       "      <td>1136574</td>\n",
       "      <td>94</td>\n",
       "    </tr>\n",
       "    <tr>\n",
       "      <th>3</th>\n",
       "      <td>501221</td>\n",
       "      <td>87</td>\n",
       "    </tr>\n",
       "    <tr>\n",
       "      <th>4</th>\n",
       "      <td>980957</td>\n",
       "      <td>85</td>\n",
       "    </tr>\n",
       "    <tr>\n",
       "      <th>5</th>\n",
       "      <td>980909</td>\n",
       "      <td>84</td>\n",
       "    </tr>\n",
       "    <tr>\n",
       "      <th>6</th>\n",
       "      <td>1216508</td>\n",
       "      <td>80</td>\n",
       "    </tr>\n",
       "    <tr>\n",
       "      <th>7</th>\n",
       "      <td>598037</td>\n",
       "      <td>79</td>\n",
       "    </tr>\n",
       "    <tr>\n",
       "      <th>8</th>\n",
       "      <td>335999</td>\n",
       "      <td>76</td>\n",
       "    </tr>\n",
       "    <tr>\n",
       "      <th>9</th>\n",
       "      <td>598006</td>\n",
       "      <td>74</td>\n",
       "    </tr>\n",
       "    <tr>\n",
       "      <th>10</th>\n",
       "      <td>548314</td>\n",
       "      <td>73</td>\n",
       "    </tr>\n",
       "    <tr>\n",
       "      <th>11</th>\n",
       "      <td>598024</td>\n",
       "      <td>73</td>\n",
       "    </tr>\n",
       "    <tr>\n",
       "      <th>12</th>\n",
       "      <td>419141</td>\n",
       "      <td>73</td>\n",
       "    </tr>\n",
       "    <tr>\n",
       "      <th>13</th>\n",
       "      <td>1216503</td>\n",
       "      <td>70</td>\n",
       "    </tr>\n",
       "    <tr>\n",
       "      <th>14</th>\n",
       "      <td>419156</td>\n",
       "      <td>68</td>\n",
       "    </tr>\n",
       "    <tr>\n",
       "      <th>15</th>\n",
       "      <td>980947</td>\n",
       "      <td>68</td>\n",
       "    </tr>\n",
       "    <tr>\n",
       "      <th>16</th>\n",
       "      <td>1237181</td>\n",
       "      <td>68</td>\n",
       "    </tr>\n",
       "    <tr>\n",
       "      <th>17</th>\n",
       "      <td>1178419</td>\n",
       "      <td>67</td>\n",
       "    </tr>\n",
       "    <tr>\n",
       "      <th>18</th>\n",
       "      <td>1082638</td>\n",
       "      <td>67</td>\n",
       "    </tr>\n",
       "    <tr>\n",
       "      <th>19</th>\n",
       "      <td>335988</td>\n",
       "      <td>66</td>\n",
       "    </tr>\n",
       "  </tbody>\n",
       "</table>\n",
       "</div>"
      ],
      "text/plain": [
       "         id  batsman_runs\n",
       "0    548363           109\n",
       "1    829705            98\n",
       "2   1136574            94\n",
       "3    501221            87\n",
       "4    980957            85\n",
       "5    980909            84\n",
       "6   1216508            80\n",
       "7    598037            79\n",
       "8    335999            76\n",
       "9    598006            74\n",
       "10   548314            73\n",
       "11   598024            73\n",
       "12   419141            73\n",
       "13  1216503            70\n",
       "14   419156            68\n",
       "15   980947            68\n",
       "16  1237181            68\n",
       "17  1178419            67\n",
       "18  1082638            67\n",
       "19   335988            66"
      ]
     },
     "execution_count": 8,
     "metadata": {},
     "output_type": "execute_result"
    }
   ],
   "source": [
    "df_bman.groupby('id')['batsman_runs'].sum().sort_values(ascending = False).reset_index().head(20)"
   ]
  },
  {
   "cell_type": "code",
   "execution_count": 9,
   "id": "b9d8efb2",
   "metadata": {},
   "outputs": [
    {
     "data": {
      "text/plain": [
       "0       335982\n",
       "1       335983\n",
       "2       335984\n",
       "3       335985\n",
       "4       335986\n",
       "        ...   \n",
       "811    1216547\n",
       "812    1237177\n",
       "813    1237178\n",
       "814    1237180\n",
       "815    1237181\n",
       "Name: id, Length: 816, dtype: int64"
      ]
     },
     "execution_count": 9,
     "metadata": {},
     "output_type": "execute_result"
    }
   ],
   "source": [
    "df_match.iloc[: , 0,]"
   ]
  },
  {
   "cell_type": "code",
   "execution_count": 11,
   "id": "e4f78e21",
   "metadata": {},
   "outputs": [
    {
     "data": {
      "text/plain": [
       "Index(['id', 'inning', 'over', 'ball', 'batsman', 'non_striker', 'bowler',\n",
       "       'batsman_runs', 'extra_runs', 'total_runs', 'non_boundary', 'is_wicket',\n",
       "       'dismissal_kind', 'player_dismissed', 'fielder', 'extras_type',\n",
       "       'batting_team', 'bowling_team', 'season'],\n",
       "      dtype='object')"
      ]
     },
     "execution_count": 11,
     "metadata": {},
     "output_type": "execute_result"
    }
   ],
   "source": [
    "df_bman.keys()"
   ]
  },
  {
   "cell_type": "code",
   "execution_count": 12,
   "id": "18ec3972",
   "metadata": {},
   "outputs": [
    {
     "data": {
      "text/plain": [
       "5230"
      ]
     },
     "execution_count": 12,
     "metadata": {},
     "output_type": "execute_result"
    }
   ],
   "source": [
    "df_bman.batsman_runs.sum()"
   ]
  },
  {
   "cell_type": "code",
   "execution_count": 13,
   "id": "afb5d907",
   "metadata": {},
   "outputs": [
    {
     "data": {
      "text/plain": [
       "array([2008, 2009, 2010, 2011, 2012, 2013, 2014, 2015, 2016, 2017, 2018,\n",
       "       2019, 2020])"
      ]
     },
     "execution_count": 13,
     "metadata": {},
     "output_type": "execute_result"
    }
   ],
   "source": []
  },
  {
   "cell_type": "code",
   "execution_count": 17,
   "id": "19963c45",
   "metadata": {},
   "outputs": [
    {
     "data": {
      "text/html": [
       "<div>\n",
       "<style scoped>\n",
       "    .dataframe tbody tr th:only-of-type {\n",
       "        vertical-align: middle;\n",
       "    }\n",
       "\n",
       "    .dataframe tbody tr th {\n",
       "        vertical-align: top;\n",
       "    }\n",
       "\n",
       "    .dataframe thead th {\n",
       "        text-align: right;\n",
       "    }\n",
       "</style>\n",
       "<table border=\"1\" class=\"dataframe\">\n",
       "  <thead>\n",
       "    <tr style=\"text-align: right;\">\n",
       "      <th></th>\n",
       "      <th>season</th>\n",
       "      <th>batsman_runs</th>\n",
       "    </tr>\n",
       "  </thead>\n",
       "  <tbody>\n",
       "    <tr>\n",
       "      <th>0</th>\n",
       "      <td>2008</td>\n",
       "      <td>404</td>\n",
       "    </tr>\n",
       "    <tr>\n",
       "      <th>1</th>\n",
       "      <td>2009</td>\n",
       "      <td>362</td>\n",
       "    </tr>\n",
       "    <tr>\n",
       "      <th>2</th>\n",
       "      <td>2010</td>\n",
       "      <td>404</td>\n",
       "    </tr>\n",
       "    <tr>\n",
       "      <th>3</th>\n",
       "      <td>2011</td>\n",
       "      <td>372</td>\n",
       "    </tr>\n",
       "    <tr>\n",
       "      <th>4</th>\n",
       "      <td>2012</td>\n",
       "      <td>433</td>\n",
       "    </tr>\n",
       "    <tr>\n",
       "      <th>5</th>\n",
       "      <td>2013</td>\n",
       "      <td>538</td>\n",
       "    </tr>\n",
       "    <tr>\n",
       "      <th>6</th>\n",
       "      <td>2014</td>\n",
       "      <td>390</td>\n",
       "    </tr>\n",
       "    <tr>\n",
       "      <th>7</th>\n",
       "      <td>2015</td>\n",
       "      <td>482</td>\n",
       "    </tr>\n",
       "    <tr>\n",
       "      <th>8</th>\n",
       "      <td>2016</td>\n",
       "      <td>489</td>\n",
       "    </tr>\n",
       "    <tr>\n",
       "      <th>9</th>\n",
       "      <td>2017</td>\n",
       "      <td>333</td>\n",
       "    </tr>\n",
       "    <tr>\n",
       "      <th>10</th>\n",
       "      <td>2018</td>\n",
       "      <td>286</td>\n",
       "    </tr>\n",
       "    <tr>\n",
       "      <th>11</th>\n",
       "      <td>2019</td>\n",
       "      <td>405</td>\n",
       "    </tr>\n",
       "    <tr>\n",
       "      <th>12</th>\n",
       "      <td>2020</td>\n",
       "      <td>332</td>\n",
       "    </tr>\n",
       "  </tbody>\n",
       "</table>\n",
       "</div>"
      ],
      "text/plain": [
       "    season  batsman_runs\n",
       "0     2008           404\n",
       "1     2009           362\n",
       "2     2010           404\n",
       "3     2011           372\n",
       "4     2012           433\n",
       "5     2013           538\n",
       "6     2014           390\n",
       "7     2015           482\n",
       "8     2016           489\n",
       "9     2017           333\n",
       "10    2018           286\n",
       "11    2019           405\n",
       "12    2020           332"
      ]
     },
     "execution_count": 17,
     "metadata": {},
     "output_type": "execute_result"
    }
   ],
   "source": [
    "df_bman.groupby('season')['batsman_runs'].sum().reset_index()"
   ]
  },
  {
   "cell_type": "code",
   "execution_count": 31,
   "id": "c7ed0f66",
   "metadata": {},
   "outputs": [],
   "source": [
    " temp = df_bman.groupby('season')['batting_team'].unique().reset_index()"
   ]
  },
  {
   "cell_type": "code",
   "execution_count": 19,
   "id": "772e93e9",
   "metadata": {},
   "outputs": [
    {
     "data": {
      "text/html": [
       "<div>\n",
       "<style scoped>\n",
       "    .dataframe tbody tr th:only-of-type {\n",
       "        vertical-align: middle;\n",
       "    }\n",
       "\n",
       "    .dataframe tbody tr th {\n",
       "        vertical-align: top;\n",
       "    }\n",
       "\n",
       "    .dataframe thead th {\n",
       "        text-align: right;\n",
       "    }\n",
       "</style>\n",
       "<table border=\"1\" class=\"dataframe\">\n",
       "  <thead>\n",
       "    <tr style=\"text-align: right;\">\n",
       "      <th></th>\n",
       "      <th>id</th>\n",
       "      <th>inning</th>\n",
       "      <th>over</th>\n",
       "      <th>ball</th>\n",
       "      <th>batsman</th>\n",
       "      <th>non_striker</th>\n",
       "      <th>bowler</th>\n",
       "      <th>batsman_runs</th>\n",
       "      <th>extra_runs</th>\n",
       "      <th>total_runs</th>\n",
       "      <th>non_boundary</th>\n",
       "      <th>is_wicket</th>\n",
       "      <th>dismissal_kind</th>\n",
       "      <th>player_dismissed</th>\n",
       "      <th>fielder</th>\n",
       "      <th>extras_type</th>\n",
       "      <th>batting_team</th>\n",
       "      <th>bowling_team</th>\n",
       "      <th>season</th>\n",
       "    </tr>\n",
       "  </thead>\n",
       "  <tbody>\n",
       "    <tr>\n",
       "      <th>1070</th>\n",
       "      <td>335986</td>\n",
       "      <td>1</td>\n",
       "      <td>8</td>\n",
       "      <td>2</td>\n",
       "      <td>RG Sharma</td>\n",
       "      <td>A Symonds</td>\n",
       "      <td>M Kartik</td>\n",
       "      <td>0</td>\n",
       "      <td>0</td>\n",
       "      <td>0</td>\n",
       "      <td>0</td>\n",
       "      <td>0</td>\n",
       "      <td>NaN</td>\n",
       "      <td>NaN</td>\n",
       "      <td>NaN</td>\n",
       "      <td>NaN</td>\n",
       "      <td>Deccan Chargers</td>\n",
       "      <td>Kolkata Knight Riders</td>\n",
       "      <td>2008</td>\n",
       "    </tr>\n",
       "    <tr>\n",
       "      <th>1071</th>\n",
       "      <td>335986</td>\n",
       "      <td>1</td>\n",
       "      <td>8</td>\n",
       "      <td>3</td>\n",
       "      <td>RG Sharma</td>\n",
       "      <td>A Symonds</td>\n",
       "      <td>M Kartik</td>\n",
       "      <td>0</td>\n",
       "      <td>0</td>\n",
       "      <td>0</td>\n",
       "      <td>0</td>\n",
       "      <td>0</td>\n",
       "      <td>NaN</td>\n",
       "      <td>NaN</td>\n",
       "      <td>NaN</td>\n",
       "      <td>NaN</td>\n",
       "      <td>Deccan Chargers</td>\n",
       "      <td>Kolkata Knight Riders</td>\n",
       "      <td>2008</td>\n",
       "    </tr>\n",
       "    <tr>\n",
       "      <th>1072</th>\n",
       "      <td>335986</td>\n",
       "      <td>1</td>\n",
       "      <td>8</td>\n",
       "      <td>4</td>\n",
       "      <td>RG Sharma</td>\n",
       "      <td>A Symonds</td>\n",
       "      <td>M Kartik</td>\n",
       "      <td>0</td>\n",
       "      <td>0</td>\n",
       "      <td>0</td>\n",
       "      <td>0</td>\n",
       "      <td>1</td>\n",
       "      <td>caught</td>\n",
       "      <td>RG Sharma</td>\n",
       "      <td>WP Saha</td>\n",
       "      <td>NaN</td>\n",
       "      <td>Deccan Chargers</td>\n",
       "      <td>Kolkata Knight Riders</td>\n",
       "      <td>2008</td>\n",
       "    </tr>\n",
       "    <tr>\n",
       "      <th>1458</th>\n",
       "      <td>335988</td>\n",
       "      <td>1</td>\n",
       "      <td>13</td>\n",
       "      <td>3</td>\n",
       "      <td>RG Sharma</td>\n",
       "      <td>SB Bangar</td>\n",
       "      <td>VY Mahesh</td>\n",
       "      <td>1</td>\n",
       "      <td>0</td>\n",
       "      <td>1</td>\n",
       "      <td>0</td>\n",
       "      <td>0</td>\n",
       "      <td>NaN</td>\n",
       "      <td>NaN</td>\n",
       "      <td>NaN</td>\n",
       "      <td>NaN</td>\n",
       "      <td>Deccan Chargers</td>\n",
       "      <td>Delhi Daredevils</td>\n",
       "      <td>2008</td>\n",
       "    </tr>\n",
       "    <tr>\n",
       "      <th>1460</th>\n",
       "      <td>335988</td>\n",
       "      <td>1</td>\n",
       "      <td>13</td>\n",
       "      <td>5</td>\n",
       "      <td>RG Sharma</td>\n",
       "      <td>SB Bangar</td>\n",
       "      <td>VY Mahesh</td>\n",
       "      <td>1</td>\n",
       "      <td>0</td>\n",
       "      <td>1</td>\n",
       "      <td>0</td>\n",
       "      <td>0</td>\n",
       "      <td>NaN</td>\n",
       "      <td>NaN</td>\n",
       "      <td>NaN</td>\n",
       "      <td>NaN</td>\n",
       "      <td>Deccan Chargers</td>\n",
       "      <td>Delhi Daredevils</td>\n",
       "      <td>2008</td>\n",
       "    </tr>\n",
       "    <tr>\n",
       "      <th>...</th>\n",
       "      <td>...</td>\n",
       "      <td>...</td>\n",
       "      <td>...</td>\n",
       "      <td>...</td>\n",
       "      <td>...</td>\n",
       "      <td>...</td>\n",
       "      <td>...</td>\n",
       "      <td>...</td>\n",
       "      <td>...</td>\n",
       "      <td>...</td>\n",
       "      <td>...</td>\n",
       "      <td>...</td>\n",
       "      <td>...</td>\n",
       "      <td>...</td>\n",
       "      <td>...</td>\n",
       "      <td>...</td>\n",
       "      <td>...</td>\n",
       "      <td>...</td>\n",
       "      <td>...</td>\n",
       "    </tr>\n",
       "    <tr>\n",
       "      <th>193355</th>\n",
       "      <td>1237181</td>\n",
       "      <td>2</td>\n",
       "      <td>15</td>\n",
       "      <td>1</td>\n",
       "      <td>RG Sharma</td>\n",
       "      <td>Ishan Kishan</td>\n",
       "      <td>P Dubey</td>\n",
       "      <td>1</td>\n",
       "      <td>0</td>\n",
       "      <td>1</td>\n",
       "      <td>0</td>\n",
       "      <td>0</td>\n",
       "      <td>NaN</td>\n",
       "      <td>NaN</td>\n",
       "      <td>NaN</td>\n",
       "      <td>NaN</td>\n",
       "      <td>Mumbai Indians</td>\n",
       "      <td>Delhi Capitals</td>\n",
       "      <td>2020</td>\n",
       "    </tr>\n",
       "    <tr>\n",
       "      <th>193359</th>\n",
       "      <td>1237181</td>\n",
       "      <td>2</td>\n",
       "      <td>15</td>\n",
       "      <td>5</td>\n",
       "      <td>RG Sharma</td>\n",
       "      <td>Ishan Kishan</td>\n",
       "      <td>P Dubey</td>\n",
       "      <td>0</td>\n",
       "      <td>0</td>\n",
       "      <td>0</td>\n",
       "      <td>0</td>\n",
       "      <td>0</td>\n",
       "      <td>NaN</td>\n",
       "      <td>NaN</td>\n",
       "      <td>NaN</td>\n",
       "      <td>NaN</td>\n",
       "      <td>Mumbai Indians</td>\n",
       "      <td>Delhi Capitals</td>\n",
       "      <td>2020</td>\n",
       "    </tr>\n",
       "    <tr>\n",
       "      <th>193360</th>\n",
       "      <td>1237181</td>\n",
       "      <td>2</td>\n",
       "      <td>15</td>\n",
       "      <td>6</td>\n",
       "      <td>RG Sharma</td>\n",
       "      <td>Ishan Kishan</td>\n",
       "      <td>P Dubey</td>\n",
       "      <td>1</td>\n",
       "      <td>0</td>\n",
       "      <td>1</td>\n",
       "      <td>0</td>\n",
       "      <td>0</td>\n",
       "      <td>NaN</td>\n",
       "      <td>NaN</td>\n",
       "      <td>NaN</td>\n",
       "      <td>NaN</td>\n",
       "      <td>Mumbai Indians</td>\n",
       "      <td>Delhi Capitals</td>\n",
       "      <td>2020</td>\n",
       "    </tr>\n",
       "    <tr>\n",
       "      <th>193361</th>\n",
       "      <td>1237181</td>\n",
       "      <td>2</td>\n",
       "      <td>16</td>\n",
       "      <td>1</td>\n",
       "      <td>RG Sharma</td>\n",
       "      <td>Ishan Kishan</td>\n",
       "      <td>A Nortje</td>\n",
       "      <td>0</td>\n",
       "      <td>0</td>\n",
       "      <td>0</td>\n",
       "      <td>0</td>\n",
       "      <td>0</td>\n",
       "      <td>NaN</td>\n",
       "      <td>NaN</td>\n",
       "      <td>NaN</td>\n",
       "      <td>NaN</td>\n",
       "      <td>Mumbai Indians</td>\n",
       "      <td>Delhi Capitals</td>\n",
       "      <td>2020</td>\n",
       "    </tr>\n",
       "    <tr>\n",
       "      <th>193362</th>\n",
       "      <td>1237181</td>\n",
       "      <td>2</td>\n",
       "      <td>16</td>\n",
       "      <td>2</td>\n",
       "      <td>RG Sharma</td>\n",
       "      <td>Ishan Kishan</td>\n",
       "      <td>A Nortje</td>\n",
       "      <td>0</td>\n",
       "      <td>0</td>\n",
       "      <td>0</td>\n",
       "      <td>0</td>\n",
       "      <td>1</td>\n",
       "      <td>caught</td>\n",
       "      <td>RG Sharma</td>\n",
       "      <td>Lalit Yadav (sub)</td>\n",
       "      <td>NaN</td>\n",
       "      <td>Mumbai Indians</td>\n",
       "      <td>Delhi Capitals</td>\n",
       "      <td>2020</td>\n",
       "    </tr>\n",
       "  </tbody>\n",
       "</table>\n",
       "<p>4088 rows × 19 columns</p>\n",
       "</div>"
      ],
      "text/plain": [
       "             id  inning  over  ball    batsman   non_striker     bowler  \\\n",
       "1070     335986       1     8     2  RG Sharma     A Symonds   M Kartik   \n",
       "1071     335986       1     8     3  RG Sharma     A Symonds   M Kartik   \n",
       "1072     335986       1     8     4  RG Sharma     A Symonds   M Kartik   \n",
       "1458     335988       1    13     3  RG Sharma     SB Bangar  VY Mahesh   \n",
       "1460     335988       1    13     5  RG Sharma     SB Bangar  VY Mahesh   \n",
       "...         ...     ...   ...   ...        ...           ...        ...   \n",
       "193355  1237181       2    15     1  RG Sharma  Ishan Kishan    P Dubey   \n",
       "193359  1237181       2    15     5  RG Sharma  Ishan Kishan    P Dubey   \n",
       "193360  1237181       2    15     6  RG Sharma  Ishan Kishan    P Dubey   \n",
       "193361  1237181       2    16     1  RG Sharma  Ishan Kishan   A Nortje   \n",
       "193362  1237181       2    16     2  RG Sharma  Ishan Kishan   A Nortje   \n",
       "\n",
       "        batsman_runs  extra_runs  total_runs  non_boundary  is_wicket  \\\n",
       "1070               0           0           0             0          0   \n",
       "1071               0           0           0             0          0   \n",
       "1072               0           0           0             0          1   \n",
       "1458               1           0           1             0          0   \n",
       "1460               1           0           1             0          0   \n",
       "...              ...         ...         ...           ...        ...   \n",
       "193355             1           0           1             0          0   \n",
       "193359             0           0           0             0          0   \n",
       "193360             1           0           1             0          0   \n",
       "193361             0           0           0             0          0   \n",
       "193362             0           0           0             0          1   \n",
       "\n",
       "       dismissal_kind player_dismissed            fielder extras_type  \\\n",
       "1070              NaN              NaN                NaN         NaN   \n",
       "1071              NaN              NaN                NaN         NaN   \n",
       "1072           caught        RG Sharma            WP Saha         NaN   \n",
       "1458              NaN              NaN                NaN         NaN   \n",
       "1460              NaN              NaN                NaN         NaN   \n",
       "...               ...              ...                ...         ...   \n",
       "193355            NaN              NaN                NaN         NaN   \n",
       "193359            NaN              NaN                NaN         NaN   \n",
       "193360            NaN              NaN                NaN         NaN   \n",
       "193361            NaN              NaN                NaN         NaN   \n",
       "193362         caught        RG Sharma  Lalit Yadav (sub)         NaN   \n",
       "\n",
       "           batting_team           bowling_team  season  \n",
       "1070    Deccan Chargers  Kolkata Knight Riders    2008  \n",
       "1071    Deccan Chargers  Kolkata Knight Riders    2008  \n",
       "1072    Deccan Chargers  Kolkata Knight Riders    2008  \n",
       "1458    Deccan Chargers       Delhi Daredevils    2008  \n",
       "1460    Deccan Chargers       Delhi Daredevils    2008  \n",
       "...                 ...                    ...     ...  \n",
       "193355   Mumbai Indians         Delhi Capitals    2020  \n",
       "193359   Mumbai Indians         Delhi Capitals    2020  \n",
       "193360   Mumbai Indians         Delhi Capitals    2020  \n",
       "193361   Mumbai Indians         Delhi Capitals    2020  \n",
       "193362   Mumbai Indians         Delhi Capitals    2020  \n",
       "\n",
       "[4088 rows x 19 columns]"
      ]
     },
     "execution_count": 19,
     "metadata": {},
     "output_type": "execute_result"
    }
   ],
   "source": [
    "df_bman"
   ]
  },
  {
   "cell_type": "code",
   "execution_count": 41,
   "id": "44f4a45b",
   "metadata": {},
   "outputs": [
    {
     "data": {
      "text/html": [
       "<div>\n",
       "<style scoped>\n",
       "    .dataframe tbody tr th:only-of-type {\n",
       "        vertical-align: middle;\n",
       "    }\n",
       "\n",
       "    .dataframe tbody tr th {\n",
       "        vertical-align: top;\n",
       "    }\n",
       "\n",
       "    .dataframe thead th {\n",
       "        text-align: right;\n",
       "    }\n",
       "</style>\n",
       "<table border=\"1\" class=\"dataframe\">\n",
       "  <thead>\n",
       "    <tr style=\"text-align: right;\">\n",
       "      <th></th>\n",
       "      <th>season</th>\n",
       "      <th>batting_team</th>\n",
       "    </tr>\n",
       "  </thead>\n",
       "  <tbody>\n",
       "    <tr>\n",
       "      <th>0</th>\n",
       "      <td>2008</td>\n",
       "      <td>[Deccan Chargers]</td>\n",
       "    </tr>\n",
       "    <tr>\n",
       "      <th>1</th>\n",
       "      <td>2009</td>\n",
       "      <td>[Deccan Chargers]</td>\n",
       "    </tr>\n",
       "    <tr>\n",
       "      <th>2</th>\n",
       "      <td>2010</td>\n",
       "      <td>[Deccan Chargers]</td>\n",
       "    </tr>\n",
       "    <tr>\n",
       "      <th>3</th>\n",
       "      <td>2011</td>\n",
       "      <td>[Mumbai Indians]</td>\n",
       "    </tr>\n",
       "    <tr>\n",
       "      <th>4</th>\n",
       "      <td>2012</td>\n",
       "      <td>[Mumbai Indians]</td>\n",
       "    </tr>\n",
       "    <tr>\n",
       "      <th>5</th>\n",
       "      <td>2013</td>\n",
       "      <td>[Mumbai Indians]</td>\n",
       "    </tr>\n",
       "    <tr>\n",
       "      <th>6</th>\n",
       "      <td>2014</td>\n",
       "      <td>[Mumbai Indians]</td>\n",
       "    </tr>\n",
       "    <tr>\n",
       "      <th>7</th>\n",
       "      <td>2015</td>\n",
       "      <td>[Mumbai Indians]</td>\n",
       "    </tr>\n",
       "    <tr>\n",
       "      <th>8</th>\n",
       "      <td>2016</td>\n",
       "      <td>[Mumbai Indians]</td>\n",
       "    </tr>\n",
       "    <tr>\n",
       "      <th>9</th>\n",
       "      <td>2017</td>\n",
       "      <td>[Mumbai Indians]</td>\n",
       "    </tr>\n",
       "    <tr>\n",
       "      <th>10</th>\n",
       "      <td>2018</td>\n",
       "      <td>[Mumbai Indians]</td>\n",
       "    </tr>\n",
       "    <tr>\n",
       "      <th>11</th>\n",
       "      <td>2019</td>\n",
       "      <td>[Mumbai Indians]</td>\n",
       "    </tr>\n",
       "    <tr>\n",
       "      <th>12</th>\n",
       "      <td>2020</td>\n",
       "      <td>[Mumbai Indians]</td>\n",
       "    </tr>\n",
       "  </tbody>\n",
       "</table>\n",
       "</div>"
      ],
      "text/plain": [
       "    season       batting_team\n",
       "0     2008  [Deccan Chargers]\n",
       "1     2009  [Deccan Chargers]\n",
       "2     2010  [Deccan Chargers]\n",
       "3     2011   [Mumbai Indians]\n",
       "4     2012   [Mumbai Indians]\n",
       "5     2013   [Mumbai Indians]\n",
       "6     2014   [Mumbai Indians]\n",
       "7     2015   [Mumbai Indians]\n",
       "8     2016   [Mumbai Indians]\n",
       "9     2017   [Mumbai Indians]\n",
       "10    2018   [Mumbai Indians]\n",
       "11    2019   [Mumbai Indians]\n",
       "12    2020   [Mumbai Indians]"
      ]
     },
     "execution_count": 41,
     "metadata": {},
     "output_type": "execute_result"
    }
   ],
   "source": [
    "df_bman.groupby('season')['batting_team'].unique().reset_index()"
   ]
  },
  {
   "cell_type": "code",
   "execution_count": 47,
   "id": "0fd9ef02",
   "metadata": {},
   "outputs": [],
   "source": [
    "temp.iloc[: , 1] = temp.iloc[:,1].apply(lambda x : x[0])"
   ]
  },
  {
   "cell_type": "code",
   "execution_count": 48,
   "id": "c214e5b8",
   "metadata": {},
   "outputs": [
    {
     "data": {
      "text/html": [
       "<div>\n",
       "<style scoped>\n",
       "    .dataframe tbody tr th:only-of-type {\n",
       "        vertical-align: middle;\n",
       "    }\n",
       "\n",
       "    .dataframe tbody tr th {\n",
       "        vertical-align: top;\n",
       "    }\n",
       "\n",
       "    .dataframe thead th {\n",
       "        text-align: right;\n",
       "    }\n",
       "</style>\n",
       "<table border=\"1\" class=\"dataframe\">\n",
       "  <thead>\n",
       "    <tr style=\"text-align: right;\">\n",
       "      <th></th>\n",
       "      <th>season</th>\n",
       "      <th>batting_team</th>\n",
       "    </tr>\n",
       "  </thead>\n",
       "  <tbody>\n",
       "    <tr>\n",
       "      <th>0</th>\n",
       "      <td>2008</td>\n",
       "      <td>Deccan Chargers</td>\n",
       "    </tr>\n",
       "    <tr>\n",
       "      <th>1</th>\n",
       "      <td>2009</td>\n",
       "      <td>Deccan Chargers</td>\n",
       "    </tr>\n",
       "    <tr>\n",
       "      <th>2</th>\n",
       "      <td>2010</td>\n",
       "      <td>Deccan Chargers</td>\n",
       "    </tr>\n",
       "    <tr>\n",
       "      <th>3</th>\n",
       "      <td>2011</td>\n",
       "      <td>Mumbai Indians</td>\n",
       "    </tr>\n",
       "    <tr>\n",
       "      <th>4</th>\n",
       "      <td>2012</td>\n",
       "      <td>Mumbai Indians</td>\n",
       "    </tr>\n",
       "    <tr>\n",
       "      <th>5</th>\n",
       "      <td>2013</td>\n",
       "      <td>Mumbai Indians</td>\n",
       "    </tr>\n",
       "    <tr>\n",
       "      <th>6</th>\n",
       "      <td>2014</td>\n",
       "      <td>Mumbai Indians</td>\n",
       "    </tr>\n",
       "    <tr>\n",
       "      <th>7</th>\n",
       "      <td>2015</td>\n",
       "      <td>Mumbai Indians</td>\n",
       "    </tr>\n",
       "    <tr>\n",
       "      <th>8</th>\n",
       "      <td>2016</td>\n",
       "      <td>Mumbai Indians</td>\n",
       "    </tr>\n",
       "    <tr>\n",
       "      <th>9</th>\n",
       "      <td>2017</td>\n",
       "      <td>Mumbai Indians</td>\n",
       "    </tr>\n",
       "    <tr>\n",
       "      <th>10</th>\n",
       "      <td>2018</td>\n",
       "      <td>Mumbai Indians</td>\n",
       "    </tr>\n",
       "    <tr>\n",
       "      <th>11</th>\n",
       "      <td>2019</td>\n",
       "      <td>Mumbai Indians</td>\n",
       "    </tr>\n",
       "    <tr>\n",
       "      <th>12</th>\n",
       "      <td>2020</td>\n",
       "      <td>Mumbai Indians</td>\n",
       "    </tr>\n",
       "  </tbody>\n",
       "</table>\n",
       "</div>"
      ],
      "text/plain": [
       "    season     batting_team\n",
       "0     2008  Deccan Chargers\n",
       "1     2009  Deccan Chargers\n",
       "2     2010  Deccan Chargers\n",
       "3     2011   Mumbai Indians\n",
       "4     2012   Mumbai Indians\n",
       "5     2013   Mumbai Indians\n",
       "6     2014   Mumbai Indians\n",
       "7     2015   Mumbai Indians\n",
       "8     2016   Mumbai Indians\n",
       "9     2017   Mumbai Indians\n",
       "10    2018   Mumbai Indians\n",
       "11    2019   Mumbai Indians\n",
       "12    2020   Mumbai Indians"
      ]
     },
     "execution_count": 48,
     "metadata": {},
     "output_type": "execute_result"
    }
   ],
   "source": [
    "temp"
   ]
  },
  {
   "cell_type": "code",
   "execution_count": 61,
   "id": "f3307c6e",
   "metadata": {},
   "outputs": [],
   "source": [
    "temp = df_bman.groupby('season')['id'].unique().reset_index()"
   ]
  },
  {
   "cell_type": "code",
   "execution_count": 64,
   "id": "a5d5fbe2",
   "metadata": {},
   "outputs": [
    {
     "data": {
      "text/plain": [
       "0     12\n",
       "1     16\n",
       "2     16\n",
       "3     13\n",
       "4     16\n",
       "5     19\n",
       "6     15\n",
       "7     16\n",
       "8     14\n",
       "9     16\n",
       "10    14\n",
       "11    15\n",
       "12    12\n",
       "Name: id, dtype: int64"
      ]
     },
     "execution_count": 64,
     "metadata": {},
     "output_type": "execute_result"
    }
   ],
   "source": [
    "temp.iloc[: , -1].apply(lambda x : x.shape[0])"
   ]
  },
  {
   "cell_type": "code",
   "execution_count": 72,
   "id": "08a0e78d",
   "metadata": {},
   "outputs": [],
   "source": [
    "run = df_bman.groupby(['season' , 'id'])['batsman_runs'].sum().reset_index()"
   ]
  },
  {
   "cell_type": "code",
   "execution_count": 66,
   "id": "8a27894e",
   "metadata": {},
   "outputs": [
    {
     "data": {
      "text/html": [
       "<div>\n",
       "<style scoped>\n",
       "    .dataframe tbody tr th:only-of-type {\n",
       "        vertical-align: middle;\n",
       "    }\n",
       "\n",
       "    .dataframe tbody tr th {\n",
       "        vertical-align: top;\n",
       "    }\n",
       "\n",
       "    .dataframe thead th {\n",
       "        text-align: right;\n",
       "    }\n",
       "</style>\n",
       "<table border=\"1\" class=\"dataframe\">\n",
       "  <thead>\n",
       "    <tr style=\"text-align: right;\">\n",
       "      <th></th>\n",
       "      <th>id</th>\n",
       "      <th>city</th>\n",
       "      <th>date</th>\n",
       "      <th>player_of_match</th>\n",
       "      <th>venue</th>\n",
       "      <th>neutral_venue</th>\n",
       "      <th>team1</th>\n",
       "      <th>team2</th>\n",
       "      <th>toss_winner</th>\n",
       "      <th>toss_decision</th>\n",
       "      <th>winner</th>\n",
       "      <th>result</th>\n",
       "      <th>result_margin</th>\n",
       "      <th>eliminator</th>\n",
       "      <th>method</th>\n",
       "      <th>umpire1</th>\n",
       "      <th>umpire2</th>\n",
       "      <th>season</th>\n",
       "    </tr>\n",
       "  </thead>\n",
       "  <tbody>\n",
       "    <tr>\n",
       "      <th>0</th>\n",
       "      <td>335982</td>\n",
       "      <td>Bangalore</td>\n",
       "      <td>2008-04-18</td>\n",
       "      <td>BB McCullum</td>\n",
       "      <td>M Chinnaswamy Stadium</td>\n",
       "      <td>0</td>\n",
       "      <td>Royal Challengers Bangalore</td>\n",
       "      <td>Kolkata Knight Riders</td>\n",
       "      <td>Royal Challengers Bangalore</td>\n",
       "      <td>field</td>\n",
       "      <td>Kolkata Knight Riders</td>\n",
       "      <td>runs</td>\n",
       "      <td>140.0</td>\n",
       "      <td>N</td>\n",
       "      <td>NaN</td>\n",
       "      <td>Asad Rauf</td>\n",
       "      <td>RE Koertzen</td>\n",
       "      <td>2008</td>\n",
       "    </tr>\n",
       "    <tr>\n",
       "      <th>1</th>\n",
       "      <td>335983</td>\n",
       "      <td>Chandigarh</td>\n",
       "      <td>2008-04-19</td>\n",
       "      <td>MEK Hussey</td>\n",
       "      <td>Punjab Cricket Association Stadium, Mohali</td>\n",
       "      <td>0</td>\n",
       "      <td>Kings XI Punjab</td>\n",
       "      <td>Chennai Super Kings</td>\n",
       "      <td>Chennai Super Kings</td>\n",
       "      <td>bat</td>\n",
       "      <td>Chennai Super Kings</td>\n",
       "      <td>runs</td>\n",
       "      <td>33.0</td>\n",
       "      <td>N</td>\n",
       "      <td>NaN</td>\n",
       "      <td>MR Benson</td>\n",
       "      <td>SL Shastri</td>\n",
       "      <td>2008</td>\n",
       "    </tr>\n",
       "    <tr>\n",
       "      <th>2</th>\n",
       "      <td>335984</td>\n",
       "      <td>Delhi</td>\n",
       "      <td>2008-04-19</td>\n",
       "      <td>MF Maharoof</td>\n",
       "      <td>Feroz Shah Kotla</td>\n",
       "      <td>0</td>\n",
       "      <td>Delhi Daredevils</td>\n",
       "      <td>Rajasthan Royals</td>\n",
       "      <td>Rajasthan Royals</td>\n",
       "      <td>bat</td>\n",
       "      <td>Delhi Daredevils</td>\n",
       "      <td>wickets</td>\n",
       "      <td>9.0</td>\n",
       "      <td>N</td>\n",
       "      <td>NaN</td>\n",
       "      <td>Aleem Dar</td>\n",
       "      <td>GA Pratapkumar</td>\n",
       "      <td>2008</td>\n",
       "    </tr>\n",
       "    <tr>\n",
       "      <th>3</th>\n",
       "      <td>335985</td>\n",
       "      <td>Mumbai</td>\n",
       "      <td>2008-04-20</td>\n",
       "      <td>MV Boucher</td>\n",
       "      <td>Wankhede Stadium</td>\n",
       "      <td>0</td>\n",
       "      <td>Mumbai Indians</td>\n",
       "      <td>Royal Challengers Bangalore</td>\n",
       "      <td>Mumbai Indians</td>\n",
       "      <td>bat</td>\n",
       "      <td>Royal Challengers Bangalore</td>\n",
       "      <td>wickets</td>\n",
       "      <td>5.0</td>\n",
       "      <td>N</td>\n",
       "      <td>NaN</td>\n",
       "      <td>SJ Davis</td>\n",
       "      <td>DJ Harper</td>\n",
       "      <td>2008</td>\n",
       "    </tr>\n",
       "    <tr>\n",
       "      <th>4</th>\n",
       "      <td>335986</td>\n",
       "      <td>Kolkata</td>\n",
       "      <td>2008-04-20</td>\n",
       "      <td>DJ Hussey</td>\n",
       "      <td>Eden Gardens</td>\n",
       "      <td>0</td>\n",
       "      <td>Kolkata Knight Riders</td>\n",
       "      <td>Deccan Chargers</td>\n",
       "      <td>Deccan Chargers</td>\n",
       "      <td>bat</td>\n",
       "      <td>Kolkata Knight Riders</td>\n",
       "      <td>wickets</td>\n",
       "      <td>5.0</td>\n",
       "      <td>N</td>\n",
       "      <td>NaN</td>\n",
       "      <td>BF Bowden</td>\n",
       "      <td>K Hariharan</td>\n",
       "      <td>2008</td>\n",
       "    </tr>\n",
       "    <tr>\n",
       "      <th>...</th>\n",
       "      <td>...</td>\n",
       "      <td>...</td>\n",
       "      <td>...</td>\n",
       "      <td>...</td>\n",
       "      <td>...</td>\n",
       "      <td>...</td>\n",
       "      <td>...</td>\n",
       "      <td>...</td>\n",
       "      <td>...</td>\n",
       "      <td>...</td>\n",
       "      <td>...</td>\n",
       "      <td>...</td>\n",
       "      <td>...</td>\n",
       "      <td>...</td>\n",
       "      <td>...</td>\n",
       "      <td>...</td>\n",
       "      <td>...</td>\n",
       "      <td>...</td>\n",
       "    </tr>\n",
       "    <tr>\n",
       "      <th>811</th>\n",
       "      <td>1216547</td>\n",
       "      <td>Dubai</td>\n",
       "      <td>2020-09-28</td>\n",
       "      <td>AB de Villiers</td>\n",
       "      <td>Dubai International Cricket Stadium</td>\n",
       "      <td>0</td>\n",
       "      <td>Royal Challengers Bangalore</td>\n",
       "      <td>Mumbai Indians</td>\n",
       "      <td>Mumbai Indians</td>\n",
       "      <td>field</td>\n",
       "      <td>Royal Challengers Bangalore</td>\n",
       "      <td>tie</td>\n",
       "      <td>NaN</td>\n",
       "      <td>Y</td>\n",
       "      <td>NaN</td>\n",
       "      <td>Nitin Menon</td>\n",
       "      <td>PR Reiffel</td>\n",
       "      <td>2020</td>\n",
       "    </tr>\n",
       "    <tr>\n",
       "      <th>812</th>\n",
       "      <td>1237177</td>\n",
       "      <td>Dubai</td>\n",
       "      <td>2020-11-05</td>\n",
       "      <td>JJ Bumrah</td>\n",
       "      <td>Dubai International Cricket Stadium</td>\n",
       "      <td>0</td>\n",
       "      <td>Mumbai Indians</td>\n",
       "      <td>Delhi Capitals</td>\n",
       "      <td>Delhi Capitals</td>\n",
       "      <td>field</td>\n",
       "      <td>Mumbai Indians</td>\n",
       "      <td>runs</td>\n",
       "      <td>57.0</td>\n",
       "      <td>N</td>\n",
       "      <td>NaN</td>\n",
       "      <td>CB Gaffaney</td>\n",
       "      <td>Nitin Menon</td>\n",
       "      <td>2020</td>\n",
       "    </tr>\n",
       "    <tr>\n",
       "      <th>813</th>\n",
       "      <td>1237178</td>\n",
       "      <td>Abu Dhabi</td>\n",
       "      <td>2020-11-06</td>\n",
       "      <td>KS Williamson</td>\n",
       "      <td>Sheikh Zayed Stadium</td>\n",
       "      <td>0</td>\n",
       "      <td>Royal Challengers Bangalore</td>\n",
       "      <td>Sunrisers Hyderabad</td>\n",
       "      <td>Sunrisers Hyderabad</td>\n",
       "      <td>field</td>\n",
       "      <td>Sunrisers Hyderabad</td>\n",
       "      <td>wickets</td>\n",
       "      <td>6.0</td>\n",
       "      <td>N</td>\n",
       "      <td>NaN</td>\n",
       "      <td>PR Reiffel</td>\n",
       "      <td>S Ravi</td>\n",
       "      <td>2020</td>\n",
       "    </tr>\n",
       "    <tr>\n",
       "      <th>814</th>\n",
       "      <td>1237180</td>\n",
       "      <td>Abu Dhabi</td>\n",
       "      <td>2020-11-08</td>\n",
       "      <td>MP Stoinis</td>\n",
       "      <td>Sheikh Zayed Stadium</td>\n",
       "      <td>0</td>\n",
       "      <td>Delhi Capitals</td>\n",
       "      <td>Sunrisers Hyderabad</td>\n",
       "      <td>Delhi Capitals</td>\n",
       "      <td>bat</td>\n",
       "      <td>Delhi Capitals</td>\n",
       "      <td>runs</td>\n",
       "      <td>17.0</td>\n",
       "      <td>N</td>\n",
       "      <td>NaN</td>\n",
       "      <td>PR Reiffel</td>\n",
       "      <td>S Ravi</td>\n",
       "      <td>2020</td>\n",
       "    </tr>\n",
       "    <tr>\n",
       "      <th>815</th>\n",
       "      <td>1237181</td>\n",
       "      <td>Dubai</td>\n",
       "      <td>2020-11-10</td>\n",
       "      <td>TA Boult</td>\n",
       "      <td>Dubai International Cricket Stadium</td>\n",
       "      <td>0</td>\n",
       "      <td>Delhi Capitals</td>\n",
       "      <td>Mumbai Indians</td>\n",
       "      <td>Delhi Capitals</td>\n",
       "      <td>bat</td>\n",
       "      <td>Mumbai Indians</td>\n",
       "      <td>wickets</td>\n",
       "      <td>5.0</td>\n",
       "      <td>N</td>\n",
       "      <td>NaN</td>\n",
       "      <td>CB Gaffaney</td>\n",
       "      <td>Nitin Menon</td>\n",
       "      <td>2020</td>\n",
       "    </tr>\n",
       "  </tbody>\n",
       "</table>\n",
       "<p>816 rows × 18 columns</p>\n",
       "</div>"
      ],
      "text/plain": [
       "          id        city        date player_of_match  \\\n",
       "0     335982   Bangalore  2008-04-18     BB McCullum   \n",
       "1     335983  Chandigarh  2008-04-19      MEK Hussey   \n",
       "2     335984       Delhi  2008-04-19     MF Maharoof   \n",
       "3     335985      Mumbai  2008-04-20      MV Boucher   \n",
       "4     335986     Kolkata  2008-04-20       DJ Hussey   \n",
       "..       ...         ...         ...             ...   \n",
       "811  1216547       Dubai  2020-09-28  AB de Villiers   \n",
       "812  1237177       Dubai  2020-11-05       JJ Bumrah   \n",
       "813  1237178   Abu Dhabi  2020-11-06   KS Williamson   \n",
       "814  1237180   Abu Dhabi  2020-11-08      MP Stoinis   \n",
       "815  1237181       Dubai  2020-11-10        TA Boult   \n",
       "\n",
       "                                          venue  neutral_venue  \\\n",
       "0                         M Chinnaswamy Stadium              0   \n",
       "1    Punjab Cricket Association Stadium, Mohali              0   \n",
       "2                              Feroz Shah Kotla              0   \n",
       "3                              Wankhede Stadium              0   \n",
       "4                                  Eden Gardens              0   \n",
       "..                                          ...            ...   \n",
       "811         Dubai International Cricket Stadium              0   \n",
       "812         Dubai International Cricket Stadium              0   \n",
       "813                        Sheikh Zayed Stadium              0   \n",
       "814                        Sheikh Zayed Stadium              0   \n",
       "815         Dubai International Cricket Stadium              0   \n",
       "\n",
       "                           team1                        team2  \\\n",
       "0    Royal Challengers Bangalore        Kolkata Knight Riders   \n",
       "1                Kings XI Punjab          Chennai Super Kings   \n",
       "2               Delhi Daredevils             Rajasthan Royals   \n",
       "3                 Mumbai Indians  Royal Challengers Bangalore   \n",
       "4          Kolkata Knight Riders              Deccan Chargers   \n",
       "..                           ...                          ...   \n",
       "811  Royal Challengers Bangalore               Mumbai Indians   \n",
       "812               Mumbai Indians               Delhi Capitals   \n",
       "813  Royal Challengers Bangalore          Sunrisers Hyderabad   \n",
       "814               Delhi Capitals          Sunrisers Hyderabad   \n",
       "815               Delhi Capitals               Mumbai Indians   \n",
       "\n",
       "                     toss_winner toss_decision                       winner  \\\n",
       "0    Royal Challengers Bangalore         field        Kolkata Knight Riders   \n",
       "1            Chennai Super Kings           bat          Chennai Super Kings   \n",
       "2               Rajasthan Royals           bat             Delhi Daredevils   \n",
       "3                 Mumbai Indians           bat  Royal Challengers Bangalore   \n",
       "4                Deccan Chargers           bat        Kolkata Knight Riders   \n",
       "..                           ...           ...                          ...   \n",
       "811               Mumbai Indians         field  Royal Challengers Bangalore   \n",
       "812               Delhi Capitals         field               Mumbai Indians   \n",
       "813          Sunrisers Hyderabad         field          Sunrisers Hyderabad   \n",
       "814               Delhi Capitals           bat               Delhi Capitals   \n",
       "815               Delhi Capitals           bat               Mumbai Indians   \n",
       "\n",
       "      result  result_margin eliminator method      umpire1         umpire2  \\\n",
       "0       runs          140.0          N    NaN    Asad Rauf     RE Koertzen   \n",
       "1       runs           33.0          N    NaN    MR Benson      SL Shastri   \n",
       "2    wickets            9.0          N    NaN    Aleem Dar  GA Pratapkumar   \n",
       "3    wickets            5.0          N    NaN     SJ Davis       DJ Harper   \n",
       "4    wickets            5.0          N    NaN    BF Bowden     K Hariharan   \n",
       "..       ...            ...        ...    ...          ...             ...   \n",
       "811      tie            NaN          Y    NaN  Nitin Menon      PR Reiffel   \n",
       "812     runs           57.0          N    NaN  CB Gaffaney     Nitin Menon   \n",
       "813  wickets            6.0          N    NaN   PR Reiffel          S Ravi   \n",
       "814     runs           17.0          N    NaN   PR Reiffel          S Ravi   \n",
       "815  wickets            5.0          N    NaN  CB Gaffaney     Nitin Menon   \n",
       "\n",
       "     season  \n",
       "0      2008  \n",
       "1      2008  \n",
       "2      2008  \n",
       "3      2008  \n",
       "4      2008  \n",
       "..      ...  \n",
       "811    2020  \n",
       "812    2020  \n",
       "813    2020  \n",
       "814    2020  \n",
       "815    2020  \n",
       "\n",
       "[816 rows x 18 columns]"
      ]
     },
     "execution_count": 66,
     "metadata": {},
     "output_type": "execute_result"
    }
   ],
   "source": [
    "df_match"
   ]
  },
  {
   "cell_type": "code",
   "execution_count": 71,
   "id": "19f08498",
   "metadata": {},
   "outputs": [],
   "source": [
    "temp = df_match[[\"id\" , 'date']]"
   ]
  },
  {
   "cell_type": "code",
   "execution_count": 76,
   "id": "5b078c46",
   "metadata": {},
   "outputs": [],
   "source": [
    "run = run.merge(temp , on='id')"
   ]
  },
  {
   "cell_type": "code",
   "execution_count": 77,
   "id": "75f7adf9",
   "metadata": {},
   "outputs": [
    {
     "data": {
      "text/html": [
       "<div>\n",
       "<style scoped>\n",
       "    .dataframe tbody tr th:only-of-type {\n",
       "        vertical-align: middle;\n",
       "    }\n",
       "\n",
       "    .dataframe tbody tr th {\n",
       "        vertical-align: top;\n",
       "    }\n",
       "\n",
       "    .dataframe thead th {\n",
       "        text-align: right;\n",
       "    }\n",
       "</style>\n",
       "<table border=\"1\" class=\"dataframe\">\n",
       "  <thead>\n",
       "    <tr style=\"text-align: right;\">\n",
       "      <th></th>\n",
       "      <th>season</th>\n",
       "      <th>id</th>\n",
       "      <th>batsman_runs</th>\n",
       "      <th>date</th>\n",
       "    </tr>\n",
       "  </thead>\n",
       "  <tbody>\n",
       "    <tr>\n",
       "      <th>0</th>\n",
       "      <td>2008</td>\n",
       "      <td>335986</td>\n",
       "      <td>0</td>\n",
       "      <td>2008-04-20</td>\n",
       "    </tr>\n",
       "    <tr>\n",
       "      <th>1</th>\n",
       "      <td>2008</td>\n",
       "      <td>335988</td>\n",
       "      <td>66</td>\n",
       "      <td>2008-04-22</td>\n",
       "    </tr>\n",
       "    <tr>\n",
       "      <th>2</th>\n",
       "      <td>2008</td>\n",
       "      <td>335990</td>\n",
       "      <td>36</td>\n",
       "      <td>2008-04-24</td>\n",
       "    </tr>\n",
       "    <tr>\n",
       "      <th>3</th>\n",
       "      <td>2008</td>\n",
       "      <td>335999</td>\n",
       "      <td>76</td>\n",
       "      <td>2008-05-01</td>\n",
       "    </tr>\n",
       "    <tr>\n",
       "      <th>4</th>\n",
       "      <td>2008</td>\n",
       "      <td>336002</td>\n",
       "      <td>17</td>\n",
       "      <td>2008-05-25</td>\n",
       "    </tr>\n",
       "    <tr>\n",
       "      <th>...</th>\n",
       "      <td>...</td>\n",
       "      <td>...</td>\n",
       "      <td>...</td>\n",
       "      <td>...</td>\n",
       "    </tr>\n",
       "    <tr>\n",
       "      <th>189</th>\n",
       "      <td>2020</td>\n",
       "      <td>1216529</td>\n",
       "      <td>5</td>\n",
       "      <td>2020-10-11</td>\n",
       "    </tr>\n",
       "    <tr>\n",
       "      <th>190</th>\n",
       "      <td>2020</td>\n",
       "      <td>1216538</td>\n",
       "      <td>6</td>\n",
       "      <td>2020-10-04</td>\n",
       "    </tr>\n",
       "    <tr>\n",
       "      <th>191</th>\n",
       "      <td>2020</td>\n",
       "      <td>1216547</td>\n",
       "      <td>8</td>\n",
       "      <td>2020-09-28</td>\n",
       "    </tr>\n",
       "    <tr>\n",
       "      <th>192</th>\n",
       "      <td>2020</td>\n",
       "      <td>1237177</td>\n",
       "      <td>0</td>\n",
       "      <td>2020-11-05</td>\n",
       "    </tr>\n",
       "    <tr>\n",
       "      <th>193</th>\n",
       "      <td>2020</td>\n",
       "      <td>1237181</td>\n",
       "      <td>68</td>\n",
       "      <td>2020-11-10</td>\n",
       "    </tr>\n",
       "  </tbody>\n",
       "</table>\n",
       "<p>194 rows × 4 columns</p>\n",
       "</div>"
      ],
      "text/plain": [
       "     season       id  batsman_runs        date\n",
       "0      2008   335986             0  2008-04-20\n",
       "1      2008   335988            66  2008-04-22\n",
       "2      2008   335990            36  2008-04-24\n",
       "3      2008   335999            76  2008-05-01\n",
       "4      2008   336002            17  2008-05-25\n",
       "..      ...      ...           ...         ...\n",
       "189    2020  1216529             5  2020-10-11\n",
       "190    2020  1216538             6  2020-10-04\n",
       "191    2020  1216547             8  2020-09-28\n",
       "192    2020  1237177             0  2020-11-05\n",
       "193    2020  1237181            68  2020-11-10\n",
       "\n",
       "[194 rows x 4 columns]"
      ]
     },
     "execution_count": 77,
     "metadata": {},
     "output_type": "execute_result"
    }
   ],
   "source": [
    "run"
   ]
  },
  {
   "cell_type": "code",
   "execution_count": 81,
   "id": "3a62a376",
   "metadata": {},
   "outputs": [
    {
     "data": {
      "application/vnd.plotly.v1+json": {
       "config": {
        "plotlyServerURL": "https://plot.ly"
       },
       "data": [
        {
         "customdata": [
          [
           "2008-04-20"
          ],
          [
           "2008-04-22"
          ],
          [
           "2008-04-24"
          ],
          [
           "2008-05-01"
          ],
          [
           "2008-05-25"
          ],
          [
           "2008-05-06"
          ],
          [
           "2008-05-09"
          ],
          [
           "2008-05-11"
          ],
          [
           "2008-05-15"
          ],
          [
           "2008-05-18"
          ],
          [
           "2008-05-23"
          ],
          [
           "2008-05-03"
          ],
          [
           "2009-04-19"
          ],
          [
           "2009-04-22"
          ],
          [
           "2009-04-25"
          ],
          [
           "2009-04-27"
          ],
          [
           "2009-04-30"
          ],
          [
           "2009-05-02"
          ],
          [
           "2009-05-04"
          ],
          [
           "2009-05-06"
          ],
          [
           "2009-05-09"
          ],
          [
           "2009-05-11"
          ],
          [
           "2009-05-13"
          ],
          [
           "2009-05-16"
          ],
          [
           "2009-05-17"
          ],
          [
           "2009-05-21"
          ],
          [
           "2009-05-22"
          ],
          [
           "2009-05-24"
          ],
          [
           "2010-03-12"
          ],
          [
           "2010-03-14"
          ],
          [
           "2010-03-19"
          ],
          [
           "2010-03-21"
          ],
          [
           "2010-03-26"
          ],
          [
           "2010-03-28"
          ],
          [
           "2010-04-01"
          ],
          [
           "2010-04-03"
          ],
          [
           "2010-04-05"
          ],
          [
           "2010-04-08"
          ],
          [
           "2010-04-10"
          ],
          [
           "2010-04-12"
          ],
          [
           "2010-04-16"
          ],
          [
           "2010-04-18"
          ],
          [
           "2010-04-22"
          ],
          [
           "2010-04-24"
          ],
          [
           "2011-04-10"
          ],
          [
           "2011-04-20"
          ],
          [
           "2011-04-22"
          ],
          [
           "2011-04-24"
          ],
          [
           "2011-04-29"
          ],
          [
           "2011-05-02"
          ],
          [
           "2011-05-04"
          ],
          [
           "2011-05-07"
          ],
          [
           "2011-05-10"
          ],
          [
           "2011-05-14"
          ],
          [
           "2011-05-20"
          ],
          [
           "2011-05-22"
          ],
          [
           "2011-05-27"
          ],
          [
           "2012-04-04"
          ],
          [
           "2012-04-06"
          ],
          [
           "2012-04-09"
          ],
          [
           "2012-04-11"
          ],
          [
           "2012-04-16"
          ],
          [
           "2012-04-22"
          ],
          [
           "2012-04-25"
          ],
          [
           "2012-04-27"
          ],
          [
           "2012-04-29"
          ],
          [
           "2012-05-03"
          ],
          [
           "2012-05-06"
          ],
          [
           "2012-05-09"
          ],
          [
           "2012-05-12"
          ],
          [
           "2012-05-14"
          ],
          [
           "2012-05-16"
          ],
          [
           "2012-05-23"
          ],
          [
           "2013-04-04"
          ],
          [
           "2013-04-06"
          ],
          [
           "2013-04-09"
          ],
          [
           "2013-04-13"
          ],
          [
           "2013-04-17"
          ],
          [
           "2013-04-21"
          ],
          [
           "2013-04-24"
          ],
          [
           "2013-04-27"
          ],
          [
           "2013-04-29"
          ],
          [
           "2013-05-01"
          ],
          [
           "2013-05-05"
          ],
          [
           "2013-05-07"
          ],
          [
           "2013-05-11"
          ],
          [
           "2013-05-13"
          ],
          [
           "2013-05-15"
          ],
          [
           "2013-05-18"
          ],
          [
           "2013-05-21"
          ],
          [
           "2013-05-24"
          ],
          [
           "2013-05-26"
          ],
          [
           "2014-04-16"
          ],
          [
           "2014-04-19"
          ],
          [
           "2014-04-25"
          ],
          [
           "2014-04-27"
          ],
          [
           "2014-04-30"
          ],
          [
           "2014-05-03"
          ],
          [
           "2014-05-06"
          ],
          [
           "2014-05-10"
          ],
          [
           "2014-05-12"
          ],
          [
           "2014-05-14"
          ],
          [
           "2014-05-19"
          ],
          [
           "2014-05-21"
          ],
          [
           "2014-05-23"
          ],
          [
           "2014-05-25"
          ],
          [
           "2014-05-28"
          ],
          [
           "2015-04-08"
          ],
          [
           "2015-04-12"
          ],
          [
           "2015-04-14"
          ],
          [
           "2015-04-17"
          ],
          [
           "2015-04-19"
          ],
          [
           "2015-04-23"
          ],
          [
           "2015-04-25"
          ],
          [
           "2015-05-01"
          ],
          [
           "2015-05-03"
          ],
          [
           "2015-05-05"
          ],
          [
           "2015-05-08"
          ],
          [
           "2015-05-10"
          ],
          [
           "2015-05-14"
          ],
          [
           "2015-05-17"
          ],
          [
           "2015-05-19"
          ],
          [
           "2015-05-24"
          ],
          [
           "2016-04-09"
          ],
          [
           "2016-04-13"
          ],
          [
           "2016-04-16"
          ],
          [
           "2016-04-18"
          ],
          [
           "2016-04-20"
          ],
          [
           "2016-04-23"
          ],
          [
           "2016-04-25"
          ],
          [
           "2016-04-28"
          ],
          [
           "2016-05-01"
          ],
          [
           "2016-05-08"
          ],
          [
           "2016-05-11"
          ],
          [
           "2016-05-13"
          ],
          [
           "2016-05-15"
          ],
          [
           "2016-05-21"
          ],
          [
           "2017-04-06"
          ],
          [
           "2017-04-09"
          ],
          [
           "2017-04-12"
          ],
          [
           "2017-04-14"
          ],
          [
           "2017-04-16"
          ],
          [
           "2017-04-22"
          ],
          [
           "2017-04-24"
          ],
          [
           "2017-04-29"
          ],
          [
           "2017-05-01"
          ],
          [
           "2017-05-06"
          ],
          [
           "2017-05-08"
          ],
          [
           "2017-05-11"
          ],
          [
           "2017-05-13"
          ],
          [
           "2017-05-16"
          ],
          [
           "2017-05-19"
          ],
          [
           "2017-05-21"
          ],
          [
           "2018-04-07"
          ],
          [
           "2018-04-12"
          ],
          [
           "2018-04-14"
          ],
          [
           "2018-04-17"
          ],
          [
           "2018-04-22"
          ],
          [
           "2018-04-24"
          ],
          [
           "2018-04-28"
          ],
          [
           "2018-05-01"
          ],
          [
           "2018-05-04"
          ],
          [
           "2018-05-06"
          ],
          [
           "2018-05-09"
          ],
          [
           "2018-05-13"
          ],
          [
           "2018-05-16"
          ],
          [
           "2018-05-20"
          ],
          [
           "2019-03-24"
          ],
          [
           "2019-03-28"
          ],
          [
           "2019-03-30"
          ],
          [
           "2019-04-03"
          ],
          [
           "2019-04-06"
          ],
          [
           "2019-04-13"
          ],
          [
           "2019-04-15"
          ],
          [
           "2019-04-18"
          ],
          [
           "2019-04-20"
          ],
          [
           "2019-04-26"
          ],
          [
           "2019-04-28"
          ],
          [
           "2019-05-02"
          ],
          [
           "2019-05-05"
          ],
          [
           "2019-05-07"
          ],
          [
           "2019-05-12"
          ],
          [
           "2020-09-19"
          ],
          [
           "2020-11-03"
          ],
          [
           "2020-10-01"
          ],
          [
           "2020-09-23"
          ],
          [
           "2020-10-06"
          ],
          [
           "2020-10-18"
          ],
          [
           "2020-10-16"
          ],
          [
           "2020-10-11"
          ],
          [
           "2020-10-04"
          ],
          [
           "2020-09-28"
          ],
          [
           "2020-11-05"
          ],
          [
           "2020-11-10"
          ]
         ],
         "hovertemplate": "index=%{x}<br>batsman_runs=%{y}<br>date=%{customdata[0]}<extra></extra>",
         "legendgroup": "",
         "line": {
          "color": "#636efa",
          "dash": "solid"
         },
         "marker": {
          "symbol": "circle"
         },
         "mode": "lines",
         "name": "",
         "orientation": "v",
         "showlegend": false,
         "type": "scatter",
         "x": [
          0,
          1,
          2,
          3,
          4,
          5,
          6,
          7,
          8,
          9,
          10,
          11,
          12,
          13,
          14,
          15,
          16,
          17,
          18,
          19,
          20,
          21,
          22,
          23,
          24,
          25,
          26,
          27,
          28,
          29,
          30,
          31,
          32,
          33,
          34,
          35,
          36,
          37,
          38,
          39,
          40,
          41,
          42,
          43,
          44,
          45,
          46,
          47,
          48,
          49,
          50,
          51,
          52,
          53,
          54,
          55,
          56,
          57,
          58,
          59,
          60,
          61,
          62,
          63,
          64,
          65,
          66,
          67,
          68,
          69,
          70,
          71,
          72,
          73,
          74,
          75,
          76,
          77,
          78,
          79,
          80,
          81,
          82,
          83,
          84,
          85,
          86,
          87,
          88,
          89,
          90,
          91,
          92,
          93,
          94,
          95,
          96,
          97,
          98,
          99,
          100,
          101,
          102,
          103,
          104,
          105,
          106,
          107,
          108,
          109,
          110,
          111,
          112,
          113,
          114,
          115,
          116,
          117,
          118,
          119,
          120,
          121,
          122,
          123,
          124,
          125,
          126,
          127,
          128,
          129,
          130,
          131,
          132,
          133,
          134,
          135,
          136,
          137,
          138,
          139,
          140,
          141,
          142,
          143,
          144,
          145,
          146,
          147,
          148,
          149,
          150,
          151,
          152,
          153,
          154,
          155,
          156,
          157,
          158,
          159,
          160,
          161,
          162,
          163,
          164,
          165,
          166,
          167,
          168,
          169,
          170,
          171,
          172,
          173,
          174,
          175,
          176,
          177,
          178,
          179,
          180,
          181,
          182,
          183,
          184,
          185,
          186,
          187,
          188,
          189,
          190,
          191,
          192,
          193
         ],
         "xaxis": "x",
         "y": [
          0,
          66,
          36,
          76,
          17,
          23,
          5,
          33,
          35,
          6,
          50,
          57,
          36,
          52,
          3,
          18,
          17,
          38,
          21,
          38,
          9,
          9,
          6,
          32,
          42,
          12,
          5,
          24,
          13,
          19,
          1,
          45,
          49,
          45,
          2,
          11,
          73,
          6,
          8,
          51,
          68,
          11,
          2,
          0,
          27,
          20,
          87,
          56,
          13,
          18,
          12,
          49,
          5,
          4,
          58,
          10,
          13,
          0,
          1,
          73,
          21,
          29,
          2,
          50,
          12,
          42,
          3,
          60,
          0,
          109,
          5,
          12,
          14,
          11,
          8,
          74,
          62,
          2,
          73,
          34,
          10,
          79,
          22,
          39,
          16,
          37,
          20,
          14,
          25,
          8,
          2,
          2,
          27,
          2,
          50,
          4,
          1,
          39,
          59,
          19,
          14,
          51,
          40,
          18,
          30,
          16,
          20,
          98,
          0,
          0,
          50,
          42,
          30,
          24,
          27,
          26,
          46,
          18,
          15,
          30,
          7,
          19,
          50,
          7,
          84,
          7,
          5,
          62,
          65,
          0,
          68,
          85,
          5,
          25,
          15,
          31,
          30,
          3,
          2,
          4,
          0,
          40,
          5,
          58,
          5,
          56,
          10,
          67,
          5,
          27,
          1,
          26,
          24,
          15,
          11,
          18,
          94,
          0,
          2,
          56,
          0,
          24,
          11,
          36,
          0,
          6,
          13,
          14,
          48,
          32,
          13,
          11,
          47,
          28,
          30,
          5,
          67,
          12,
          24,
          55,
          4,
          15,
          12,
          4,
          70,
          80,
          35,
          9,
          35,
          5,
          6,
          8,
          0,
          68
         ],
         "yaxis": "y"
        }
       ],
       "layout": {
        "legend": {
         "tracegroupgap": 0
        },
        "margin": {
         "t": 60
        },
        "template": {
         "data": {
          "bar": [
           {
            "error_x": {
             "color": "#2a3f5f"
            },
            "error_y": {
             "color": "#2a3f5f"
            },
            "marker": {
             "line": {
              "color": "#E5ECF6",
              "width": 0.5
             },
             "pattern": {
              "fillmode": "overlay",
              "size": 10,
              "solidity": 0.2
             }
            },
            "type": "bar"
           }
          ],
          "barpolar": [
           {
            "marker": {
             "line": {
              "color": "#E5ECF6",
              "width": 0.5
             },
             "pattern": {
              "fillmode": "overlay",
              "size": 10,
              "solidity": 0.2
             }
            },
            "type": "barpolar"
           }
          ],
          "carpet": [
           {
            "aaxis": {
             "endlinecolor": "#2a3f5f",
             "gridcolor": "white",
             "linecolor": "white",
             "minorgridcolor": "white",
             "startlinecolor": "#2a3f5f"
            },
            "baxis": {
             "endlinecolor": "#2a3f5f",
             "gridcolor": "white",
             "linecolor": "white",
             "minorgridcolor": "white",
             "startlinecolor": "#2a3f5f"
            },
            "type": "carpet"
           }
          ],
          "choropleth": [
           {
            "colorbar": {
             "outlinewidth": 0,
             "ticks": ""
            },
            "type": "choropleth"
           }
          ],
          "contour": [
           {
            "colorbar": {
             "outlinewidth": 0,
             "ticks": ""
            },
            "colorscale": [
             [
              0,
              "#0d0887"
             ],
             [
              0.1111111111111111,
              "#46039f"
             ],
             [
              0.2222222222222222,
              "#7201a8"
             ],
             [
              0.3333333333333333,
              "#9c179e"
             ],
             [
              0.4444444444444444,
              "#bd3786"
             ],
             [
              0.5555555555555556,
              "#d8576b"
             ],
             [
              0.6666666666666666,
              "#ed7953"
             ],
             [
              0.7777777777777778,
              "#fb9f3a"
             ],
             [
              0.8888888888888888,
              "#fdca26"
             ],
             [
              1,
              "#f0f921"
             ]
            ],
            "type": "contour"
           }
          ],
          "contourcarpet": [
           {
            "colorbar": {
             "outlinewidth": 0,
             "ticks": ""
            },
            "type": "contourcarpet"
           }
          ],
          "heatmap": [
           {
            "colorbar": {
             "outlinewidth": 0,
             "ticks": ""
            },
            "colorscale": [
             [
              0,
              "#0d0887"
             ],
             [
              0.1111111111111111,
              "#46039f"
             ],
             [
              0.2222222222222222,
              "#7201a8"
             ],
             [
              0.3333333333333333,
              "#9c179e"
             ],
             [
              0.4444444444444444,
              "#bd3786"
             ],
             [
              0.5555555555555556,
              "#d8576b"
             ],
             [
              0.6666666666666666,
              "#ed7953"
             ],
             [
              0.7777777777777778,
              "#fb9f3a"
             ],
             [
              0.8888888888888888,
              "#fdca26"
             ],
             [
              1,
              "#f0f921"
             ]
            ],
            "type": "heatmap"
           }
          ],
          "heatmapgl": [
           {
            "colorbar": {
             "outlinewidth": 0,
             "ticks": ""
            },
            "colorscale": [
             [
              0,
              "#0d0887"
             ],
             [
              0.1111111111111111,
              "#46039f"
             ],
             [
              0.2222222222222222,
              "#7201a8"
             ],
             [
              0.3333333333333333,
              "#9c179e"
             ],
             [
              0.4444444444444444,
              "#bd3786"
             ],
             [
              0.5555555555555556,
              "#d8576b"
             ],
             [
              0.6666666666666666,
              "#ed7953"
             ],
             [
              0.7777777777777778,
              "#fb9f3a"
             ],
             [
              0.8888888888888888,
              "#fdca26"
             ],
             [
              1,
              "#f0f921"
             ]
            ],
            "type": "heatmapgl"
           }
          ],
          "histogram": [
           {
            "marker": {
             "pattern": {
              "fillmode": "overlay",
              "size": 10,
              "solidity": 0.2
             }
            },
            "type": "histogram"
           }
          ],
          "histogram2d": [
           {
            "colorbar": {
             "outlinewidth": 0,
             "ticks": ""
            },
            "colorscale": [
             [
              0,
              "#0d0887"
             ],
             [
              0.1111111111111111,
              "#46039f"
             ],
             [
              0.2222222222222222,
              "#7201a8"
             ],
             [
              0.3333333333333333,
              "#9c179e"
             ],
             [
              0.4444444444444444,
              "#bd3786"
             ],
             [
              0.5555555555555556,
              "#d8576b"
             ],
             [
              0.6666666666666666,
              "#ed7953"
             ],
             [
              0.7777777777777778,
              "#fb9f3a"
             ],
             [
              0.8888888888888888,
              "#fdca26"
             ],
             [
              1,
              "#f0f921"
             ]
            ],
            "type": "histogram2d"
           }
          ],
          "histogram2dcontour": [
           {
            "colorbar": {
             "outlinewidth": 0,
             "ticks": ""
            },
            "colorscale": [
             [
              0,
              "#0d0887"
             ],
             [
              0.1111111111111111,
              "#46039f"
             ],
             [
              0.2222222222222222,
              "#7201a8"
             ],
             [
              0.3333333333333333,
              "#9c179e"
             ],
             [
              0.4444444444444444,
              "#bd3786"
             ],
             [
              0.5555555555555556,
              "#d8576b"
             ],
             [
              0.6666666666666666,
              "#ed7953"
             ],
             [
              0.7777777777777778,
              "#fb9f3a"
             ],
             [
              0.8888888888888888,
              "#fdca26"
             ],
             [
              1,
              "#f0f921"
             ]
            ],
            "type": "histogram2dcontour"
           }
          ],
          "mesh3d": [
           {
            "colorbar": {
             "outlinewidth": 0,
             "ticks": ""
            },
            "type": "mesh3d"
           }
          ],
          "parcoords": [
           {
            "line": {
             "colorbar": {
              "outlinewidth": 0,
              "ticks": ""
             }
            },
            "type": "parcoords"
           }
          ],
          "pie": [
           {
            "automargin": true,
            "type": "pie"
           }
          ],
          "scatter": [
           {
            "fillpattern": {
             "fillmode": "overlay",
             "size": 10,
             "solidity": 0.2
            },
            "type": "scatter"
           }
          ],
          "scatter3d": [
           {
            "line": {
             "colorbar": {
              "outlinewidth": 0,
              "ticks": ""
             }
            },
            "marker": {
             "colorbar": {
              "outlinewidth": 0,
              "ticks": ""
             }
            },
            "type": "scatter3d"
           }
          ],
          "scattercarpet": [
           {
            "marker": {
             "colorbar": {
              "outlinewidth": 0,
              "ticks": ""
             }
            },
            "type": "scattercarpet"
           }
          ],
          "scattergeo": [
           {
            "marker": {
             "colorbar": {
              "outlinewidth": 0,
              "ticks": ""
             }
            },
            "type": "scattergeo"
           }
          ],
          "scattergl": [
           {
            "marker": {
             "colorbar": {
              "outlinewidth": 0,
              "ticks": ""
             }
            },
            "type": "scattergl"
           }
          ],
          "scattermapbox": [
           {
            "marker": {
             "colorbar": {
              "outlinewidth": 0,
              "ticks": ""
             }
            },
            "type": "scattermapbox"
           }
          ],
          "scatterpolar": [
           {
            "marker": {
             "colorbar": {
              "outlinewidth": 0,
              "ticks": ""
             }
            },
            "type": "scatterpolar"
           }
          ],
          "scatterpolargl": [
           {
            "marker": {
             "colorbar": {
              "outlinewidth": 0,
              "ticks": ""
             }
            },
            "type": "scatterpolargl"
           }
          ],
          "scatterternary": [
           {
            "marker": {
             "colorbar": {
              "outlinewidth": 0,
              "ticks": ""
             }
            },
            "type": "scatterternary"
           }
          ],
          "surface": [
           {
            "colorbar": {
             "outlinewidth": 0,
             "ticks": ""
            },
            "colorscale": [
             [
              0,
              "#0d0887"
             ],
             [
              0.1111111111111111,
              "#46039f"
             ],
             [
              0.2222222222222222,
              "#7201a8"
             ],
             [
              0.3333333333333333,
              "#9c179e"
             ],
             [
              0.4444444444444444,
              "#bd3786"
             ],
             [
              0.5555555555555556,
              "#d8576b"
             ],
             [
              0.6666666666666666,
              "#ed7953"
             ],
             [
              0.7777777777777778,
              "#fb9f3a"
             ],
             [
              0.8888888888888888,
              "#fdca26"
             ],
             [
              1,
              "#f0f921"
             ]
            ],
            "type": "surface"
           }
          ],
          "table": [
           {
            "cells": {
             "fill": {
              "color": "#EBF0F8"
             },
             "line": {
              "color": "white"
             }
            },
            "header": {
             "fill": {
              "color": "#C8D4E3"
             },
             "line": {
              "color": "white"
             }
            },
            "type": "table"
           }
          ]
         },
         "layout": {
          "annotationdefaults": {
           "arrowcolor": "#2a3f5f",
           "arrowhead": 0,
           "arrowwidth": 1
          },
          "autotypenumbers": "strict",
          "coloraxis": {
           "colorbar": {
            "outlinewidth": 0,
            "ticks": ""
           }
          },
          "colorscale": {
           "diverging": [
            [
             0,
             "#8e0152"
            ],
            [
             0.1,
             "#c51b7d"
            ],
            [
             0.2,
             "#de77ae"
            ],
            [
             0.3,
             "#f1b6da"
            ],
            [
             0.4,
             "#fde0ef"
            ],
            [
             0.5,
             "#f7f7f7"
            ],
            [
             0.6,
             "#e6f5d0"
            ],
            [
             0.7,
             "#b8e186"
            ],
            [
             0.8,
             "#7fbc41"
            ],
            [
             0.9,
             "#4d9221"
            ],
            [
             1,
             "#276419"
            ]
           ],
           "sequential": [
            [
             0,
             "#0d0887"
            ],
            [
             0.1111111111111111,
             "#46039f"
            ],
            [
             0.2222222222222222,
             "#7201a8"
            ],
            [
             0.3333333333333333,
             "#9c179e"
            ],
            [
             0.4444444444444444,
             "#bd3786"
            ],
            [
             0.5555555555555556,
             "#d8576b"
            ],
            [
             0.6666666666666666,
             "#ed7953"
            ],
            [
             0.7777777777777778,
             "#fb9f3a"
            ],
            [
             0.8888888888888888,
             "#fdca26"
            ],
            [
             1,
             "#f0f921"
            ]
           ],
           "sequentialminus": [
            [
             0,
             "#0d0887"
            ],
            [
             0.1111111111111111,
             "#46039f"
            ],
            [
             0.2222222222222222,
             "#7201a8"
            ],
            [
             0.3333333333333333,
             "#9c179e"
            ],
            [
             0.4444444444444444,
             "#bd3786"
            ],
            [
             0.5555555555555556,
             "#d8576b"
            ],
            [
             0.6666666666666666,
             "#ed7953"
            ],
            [
             0.7777777777777778,
             "#fb9f3a"
            ],
            [
             0.8888888888888888,
             "#fdca26"
            ],
            [
             1,
             "#f0f921"
            ]
           ]
          },
          "colorway": [
           "#636efa",
           "#EF553B",
           "#00cc96",
           "#ab63fa",
           "#FFA15A",
           "#19d3f3",
           "#FF6692",
           "#B6E880",
           "#FF97FF",
           "#FECB52"
          ],
          "font": {
           "color": "#2a3f5f"
          },
          "geo": {
           "bgcolor": "white",
           "lakecolor": "white",
           "landcolor": "#E5ECF6",
           "showlakes": true,
           "showland": true,
           "subunitcolor": "white"
          },
          "hoverlabel": {
           "align": "left"
          },
          "hovermode": "closest",
          "mapbox": {
           "style": "light"
          },
          "paper_bgcolor": "white",
          "plot_bgcolor": "#E5ECF6",
          "polar": {
           "angularaxis": {
            "gridcolor": "white",
            "linecolor": "white",
            "ticks": ""
           },
           "bgcolor": "#E5ECF6",
           "radialaxis": {
            "gridcolor": "white",
            "linecolor": "white",
            "ticks": ""
           }
          },
          "scene": {
           "xaxis": {
            "backgroundcolor": "#E5ECF6",
            "gridcolor": "white",
            "gridwidth": 2,
            "linecolor": "white",
            "showbackground": true,
            "ticks": "",
            "zerolinecolor": "white"
           },
           "yaxis": {
            "backgroundcolor": "#E5ECF6",
            "gridcolor": "white",
            "gridwidth": 2,
            "linecolor": "white",
            "showbackground": true,
            "ticks": "",
            "zerolinecolor": "white"
           },
           "zaxis": {
            "backgroundcolor": "#E5ECF6",
            "gridcolor": "white",
            "gridwidth": 2,
            "linecolor": "white",
            "showbackground": true,
            "ticks": "",
            "zerolinecolor": "white"
           }
          },
          "shapedefaults": {
           "line": {
            "color": "#2a3f5f"
           }
          },
          "ternary": {
           "aaxis": {
            "gridcolor": "white",
            "linecolor": "white",
            "ticks": ""
           },
           "baxis": {
            "gridcolor": "white",
            "linecolor": "white",
            "ticks": ""
           },
           "bgcolor": "#E5ECF6",
           "caxis": {
            "gridcolor": "white",
            "linecolor": "white",
            "ticks": ""
           }
          },
          "title": {
           "x": 0.05
          },
          "xaxis": {
           "automargin": true,
           "gridcolor": "white",
           "linecolor": "white",
           "ticks": "",
           "title": {
            "standoff": 15
           },
           "zerolinecolor": "white",
           "zerolinewidth": 2
          },
          "yaxis": {
           "automargin": true,
           "gridcolor": "white",
           "linecolor": "white",
           "ticks": "",
           "title": {
            "standoff": 15
           },
           "zerolinecolor": "white",
           "zerolinewidth": 2
          }
         }
        },
        "xaxis": {
         "anchor": "y",
         "domain": [
          0,
          1
         ],
         "title": {
          "text": "index"
         }
        },
        "yaxis": {
         "anchor": "x",
         "domain": [
          0,
          1
         ],
         "title": {
          "text": "batsman_runs"
         }
        }
       }
      },
      "text/html": [
       "<div>                            <div id=\"7fda7d51-cf5e-4e38-9126-3de641096fc6\" class=\"plotly-graph-div\" style=\"height:525px; width:100%;\"></div>            <script type=\"text/javascript\">                require([\"plotly\"], function(Plotly) {                    window.PLOTLYENV=window.PLOTLYENV || {};                                    if (document.getElementById(\"7fda7d51-cf5e-4e38-9126-3de641096fc6\")) {                    Plotly.newPlot(                        \"7fda7d51-cf5e-4e38-9126-3de641096fc6\",                        [{\"customdata\":[[\"2008-04-20\"],[\"2008-04-22\"],[\"2008-04-24\"],[\"2008-05-01\"],[\"2008-05-25\"],[\"2008-05-06\"],[\"2008-05-09\"],[\"2008-05-11\"],[\"2008-05-15\"],[\"2008-05-18\"],[\"2008-05-23\"],[\"2008-05-03\"],[\"2009-04-19\"],[\"2009-04-22\"],[\"2009-04-25\"],[\"2009-04-27\"],[\"2009-04-30\"],[\"2009-05-02\"],[\"2009-05-04\"],[\"2009-05-06\"],[\"2009-05-09\"],[\"2009-05-11\"],[\"2009-05-13\"],[\"2009-05-16\"],[\"2009-05-17\"],[\"2009-05-21\"],[\"2009-05-22\"],[\"2009-05-24\"],[\"2010-03-12\"],[\"2010-03-14\"],[\"2010-03-19\"],[\"2010-03-21\"],[\"2010-03-26\"],[\"2010-03-28\"],[\"2010-04-01\"],[\"2010-04-03\"],[\"2010-04-05\"],[\"2010-04-08\"],[\"2010-04-10\"],[\"2010-04-12\"],[\"2010-04-16\"],[\"2010-04-18\"],[\"2010-04-22\"],[\"2010-04-24\"],[\"2011-04-10\"],[\"2011-04-20\"],[\"2011-04-22\"],[\"2011-04-24\"],[\"2011-04-29\"],[\"2011-05-02\"],[\"2011-05-04\"],[\"2011-05-07\"],[\"2011-05-10\"],[\"2011-05-14\"],[\"2011-05-20\"],[\"2011-05-22\"],[\"2011-05-27\"],[\"2012-04-04\"],[\"2012-04-06\"],[\"2012-04-09\"],[\"2012-04-11\"],[\"2012-04-16\"],[\"2012-04-22\"],[\"2012-04-25\"],[\"2012-04-27\"],[\"2012-04-29\"],[\"2012-05-03\"],[\"2012-05-06\"],[\"2012-05-09\"],[\"2012-05-12\"],[\"2012-05-14\"],[\"2012-05-16\"],[\"2012-05-23\"],[\"2013-04-04\"],[\"2013-04-06\"],[\"2013-04-09\"],[\"2013-04-13\"],[\"2013-04-17\"],[\"2013-04-21\"],[\"2013-04-24\"],[\"2013-04-27\"],[\"2013-04-29\"],[\"2013-05-01\"],[\"2013-05-05\"],[\"2013-05-07\"],[\"2013-05-11\"],[\"2013-05-13\"],[\"2013-05-15\"],[\"2013-05-18\"],[\"2013-05-21\"],[\"2013-05-24\"],[\"2013-05-26\"],[\"2014-04-16\"],[\"2014-04-19\"],[\"2014-04-25\"],[\"2014-04-27\"],[\"2014-04-30\"],[\"2014-05-03\"],[\"2014-05-06\"],[\"2014-05-10\"],[\"2014-05-12\"],[\"2014-05-14\"],[\"2014-05-19\"],[\"2014-05-21\"],[\"2014-05-23\"],[\"2014-05-25\"],[\"2014-05-28\"],[\"2015-04-08\"],[\"2015-04-12\"],[\"2015-04-14\"],[\"2015-04-17\"],[\"2015-04-19\"],[\"2015-04-23\"],[\"2015-04-25\"],[\"2015-05-01\"],[\"2015-05-03\"],[\"2015-05-05\"],[\"2015-05-08\"],[\"2015-05-10\"],[\"2015-05-14\"],[\"2015-05-17\"],[\"2015-05-19\"],[\"2015-05-24\"],[\"2016-04-09\"],[\"2016-04-13\"],[\"2016-04-16\"],[\"2016-04-18\"],[\"2016-04-20\"],[\"2016-04-23\"],[\"2016-04-25\"],[\"2016-04-28\"],[\"2016-05-01\"],[\"2016-05-08\"],[\"2016-05-11\"],[\"2016-05-13\"],[\"2016-05-15\"],[\"2016-05-21\"],[\"2017-04-06\"],[\"2017-04-09\"],[\"2017-04-12\"],[\"2017-04-14\"],[\"2017-04-16\"],[\"2017-04-22\"],[\"2017-04-24\"],[\"2017-04-29\"],[\"2017-05-01\"],[\"2017-05-06\"],[\"2017-05-08\"],[\"2017-05-11\"],[\"2017-05-13\"],[\"2017-05-16\"],[\"2017-05-19\"],[\"2017-05-21\"],[\"2018-04-07\"],[\"2018-04-12\"],[\"2018-04-14\"],[\"2018-04-17\"],[\"2018-04-22\"],[\"2018-04-24\"],[\"2018-04-28\"],[\"2018-05-01\"],[\"2018-05-04\"],[\"2018-05-06\"],[\"2018-05-09\"],[\"2018-05-13\"],[\"2018-05-16\"],[\"2018-05-20\"],[\"2019-03-24\"],[\"2019-03-28\"],[\"2019-03-30\"],[\"2019-04-03\"],[\"2019-04-06\"],[\"2019-04-13\"],[\"2019-04-15\"],[\"2019-04-18\"],[\"2019-04-20\"],[\"2019-04-26\"],[\"2019-04-28\"],[\"2019-05-02\"],[\"2019-05-05\"],[\"2019-05-07\"],[\"2019-05-12\"],[\"2020-09-19\"],[\"2020-11-03\"],[\"2020-10-01\"],[\"2020-09-23\"],[\"2020-10-06\"],[\"2020-10-18\"],[\"2020-10-16\"],[\"2020-10-11\"],[\"2020-10-04\"],[\"2020-09-28\"],[\"2020-11-05\"],[\"2020-11-10\"]],\"hovertemplate\":\"index=%{x}\\u003cbr\\u003ebatsman_runs=%{y}\\u003cbr\\u003edate=%{customdata[0]}\\u003cextra\\u003e\\u003c\\u002fextra\\u003e\",\"legendgroup\":\"\",\"line\":{\"color\":\"#636efa\",\"dash\":\"solid\"},\"marker\":{\"symbol\":\"circle\"},\"mode\":\"lines\",\"name\":\"\",\"orientation\":\"v\",\"showlegend\":false,\"x\":[0,1,2,3,4,5,6,7,8,9,10,11,12,13,14,15,16,17,18,19,20,21,22,23,24,25,26,27,28,29,30,31,32,33,34,35,36,37,38,39,40,41,42,43,44,45,46,47,48,49,50,51,52,53,54,55,56,57,58,59,60,61,62,63,64,65,66,67,68,69,70,71,72,73,74,75,76,77,78,79,80,81,82,83,84,85,86,87,88,89,90,91,92,93,94,95,96,97,98,99,100,101,102,103,104,105,106,107,108,109,110,111,112,113,114,115,116,117,118,119,120,121,122,123,124,125,126,127,128,129,130,131,132,133,134,135,136,137,138,139,140,141,142,143,144,145,146,147,148,149,150,151,152,153,154,155,156,157,158,159,160,161,162,163,164,165,166,167,168,169,170,171,172,173,174,175,176,177,178,179,180,181,182,183,184,185,186,187,188,189,190,191,192,193],\"xaxis\":\"x\",\"y\":[0,66,36,76,17,23,5,33,35,6,50,57,36,52,3,18,17,38,21,38,9,9,6,32,42,12,5,24,13,19,1,45,49,45,2,11,73,6,8,51,68,11,2,0,27,20,87,56,13,18,12,49,5,4,58,10,13,0,1,73,21,29,2,50,12,42,3,60,0,109,5,12,14,11,8,74,62,2,73,34,10,79,22,39,16,37,20,14,25,8,2,2,27,2,50,4,1,39,59,19,14,51,40,18,30,16,20,98,0,0,50,42,30,24,27,26,46,18,15,30,7,19,50,7,84,7,5,62,65,0,68,85,5,25,15,31,30,3,2,4,0,40,5,58,5,56,10,67,5,27,1,26,24,15,11,18,94,0,2,56,0,24,11,36,0,6,13,14,48,32,13,11,47,28,30,5,67,12,24,55,4,15,12,4,70,80,35,9,35,5,6,8,0,68],\"yaxis\":\"y\",\"type\":\"scatter\"}],                        {\"template\":{\"data\":{\"histogram2dcontour\":[{\"type\":\"histogram2dcontour\",\"colorbar\":{\"outlinewidth\":0,\"ticks\":\"\"},\"colorscale\":[[0.0,\"#0d0887\"],[0.1111111111111111,\"#46039f\"],[0.2222222222222222,\"#7201a8\"],[0.3333333333333333,\"#9c179e\"],[0.4444444444444444,\"#bd3786\"],[0.5555555555555556,\"#d8576b\"],[0.6666666666666666,\"#ed7953\"],[0.7777777777777778,\"#fb9f3a\"],[0.8888888888888888,\"#fdca26\"],[1.0,\"#f0f921\"]]}],\"choropleth\":[{\"type\":\"choropleth\",\"colorbar\":{\"outlinewidth\":0,\"ticks\":\"\"}}],\"histogram2d\":[{\"type\":\"histogram2d\",\"colorbar\":{\"outlinewidth\":0,\"ticks\":\"\"},\"colorscale\":[[0.0,\"#0d0887\"],[0.1111111111111111,\"#46039f\"],[0.2222222222222222,\"#7201a8\"],[0.3333333333333333,\"#9c179e\"],[0.4444444444444444,\"#bd3786\"],[0.5555555555555556,\"#d8576b\"],[0.6666666666666666,\"#ed7953\"],[0.7777777777777778,\"#fb9f3a\"],[0.8888888888888888,\"#fdca26\"],[1.0,\"#f0f921\"]]}],\"heatmap\":[{\"type\":\"heatmap\",\"colorbar\":{\"outlinewidth\":0,\"ticks\":\"\"},\"colorscale\":[[0.0,\"#0d0887\"],[0.1111111111111111,\"#46039f\"],[0.2222222222222222,\"#7201a8\"],[0.3333333333333333,\"#9c179e\"],[0.4444444444444444,\"#bd3786\"],[0.5555555555555556,\"#d8576b\"],[0.6666666666666666,\"#ed7953\"],[0.7777777777777778,\"#fb9f3a\"],[0.8888888888888888,\"#fdca26\"],[1.0,\"#f0f921\"]]}],\"heatmapgl\":[{\"type\":\"heatmapgl\",\"colorbar\":{\"outlinewidth\":0,\"ticks\":\"\"},\"colorscale\":[[0.0,\"#0d0887\"],[0.1111111111111111,\"#46039f\"],[0.2222222222222222,\"#7201a8\"],[0.3333333333333333,\"#9c179e\"],[0.4444444444444444,\"#bd3786\"],[0.5555555555555556,\"#d8576b\"],[0.6666666666666666,\"#ed7953\"],[0.7777777777777778,\"#fb9f3a\"],[0.8888888888888888,\"#fdca26\"],[1.0,\"#f0f921\"]]}],\"contourcarpet\":[{\"type\":\"contourcarpet\",\"colorbar\":{\"outlinewidth\":0,\"ticks\":\"\"}}],\"contour\":[{\"type\":\"contour\",\"colorbar\":{\"outlinewidth\":0,\"ticks\":\"\"},\"colorscale\":[[0.0,\"#0d0887\"],[0.1111111111111111,\"#46039f\"],[0.2222222222222222,\"#7201a8\"],[0.3333333333333333,\"#9c179e\"],[0.4444444444444444,\"#bd3786\"],[0.5555555555555556,\"#d8576b\"],[0.6666666666666666,\"#ed7953\"],[0.7777777777777778,\"#fb9f3a\"],[0.8888888888888888,\"#fdca26\"],[1.0,\"#f0f921\"]]}],\"surface\":[{\"type\":\"surface\",\"colorbar\":{\"outlinewidth\":0,\"ticks\":\"\"},\"colorscale\":[[0.0,\"#0d0887\"],[0.1111111111111111,\"#46039f\"],[0.2222222222222222,\"#7201a8\"],[0.3333333333333333,\"#9c179e\"],[0.4444444444444444,\"#bd3786\"],[0.5555555555555556,\"#d8576b\"],[0.6666666666666666,\"#ed7953\"],[0.7777777777777778,\"#fb9f3a\"],[0.8888888888888888,\"#fdca26\"],[1.0,\"#f0f921\"]]}],\"mesh3d\":[{\"type\":\"mesh3d\",\"colorbar\":{\"outlinewidth\":0,\"ticks\":\"\"}}],\"scatter\":[{\"fillpattern\":{\"fillmode\":\"overlay\",\"size\":10,\"solidity\":0.2},\"type\":\"scatter\"}],\"parcoords\":[{\"type\":\"parcoords\",\"line\":{\"colorbar\":{\"outlinewidth\":0,\"ticks\":\"\"}}}],\"scatterpolargl\":[{\"type\":\"scatterpolargl\",\"marker\":{\"colorbar\":{\"outlinewidth\":0,\"ticks\":\"\"}}}],\"bar\":[{\"error_x\":{\"color\":\"#2a3f5f\"},\"error_y\":{\"color\":\"#2a3f5f\"},\"marker\":{\"line\":{\"color\":\"#E5ECF6\",\"width\":0.5},\"pattern\":{\"fillmode\":\"overlay\",\"size\":10,\"solidity\":0.2}},\"type\":\"bar\"}],\"scattergeo\":[{\"type\":\"scattergeo\",\"marker\":{\"colorbar\":{\"outlinewidth\":0,\"ticks\":\"\"}}}],\"scatterpolar\":[{\"type\":\"scatterpolar\",\"marker\":{\"colorbar\":{\"outlinewidth\":0,\"ticks\":\"\"}}}],\"histogram\":[{\"marker\":{\"pattern\":{\"fillmode\":\"overlay\",\"size\":10,\"solidity\":0.2}},\"type\":\"histogram\"}],\"scattergl\":[{\"type\":\"scattergl\",\"marker\":{\"colorbar\":{\"outlinewidth\":0,\"ticks\":\"\"}}}],\"scatter3d\":[{\"type\":\"scatter3d\",\"line\":{\"colorbar\":{\"outlinewidth\":0,\"ticks\":\"\"}},\"marker\":{\"colorbar\":{\"outlinewidth\":0,\"ticks\":\"\"}}}],\"scattermapbox\":[{\"type\":\"scattermapbox\",\"marker\":{\"colorbar\":{\"outlinewidth\":0,\"ticks\":\"\"}}}],\"scatterternary\":[{\"type\":\"scatterternary\",\"marker\":{\"colorbar\":{\"outlinewidth\":0,\"ticks\":\"\"}}}],\"scattercarpet\":[{\"type\":\"scattercarpet\",\"marker\":{\"colorbar\":{\"outlinewidth\":0,\"ticks\":\"\"}}}],\"carpet\":[{\"aaxis\":{\"endlinecolor\":\"#2a3f5f\",\"gridcolor\":\"white\",\"linecolor\":\"white\",\"minorgridcolor\":\"white\",\"startlinecolor\":\"#2a3f5f\"},\"baxis\":{\"endlinecolor\":\"#2a3f5f\",\"gridcolor\":\"white\",\"linecolor\":\"white\",\"minorgridcolor\":\"white\",\"startlinecolor\":\"#2a3f5f\"},\"type\":\"carpet\"}],\"table\":[{\"cells\":{\"fill\":{\"color\":\"#EBF0F8\"},\"line\":{\"color\":\"white\"}},\"header\":{\"fill\":{\"color\":\"#C8D4E3\"},\"line\":{\"color\":\"white\"}},\"type\":\"table\"}],\"barpolar\":[{\"marker\":{\"line\":{\"color\":\"#E5ECF6\",\"width\":0.5},\"pattern\":{\"fillmode\":\"overlay\",\"size\":10,\"solidity\":0.2}},\"type\":\"barpolar\"}],\"pie\":[{\"automargin\":true,\"type\":\"pie\"}]},\"layout\":{\"autotypenumbers\":\"strict\",\"colorway\":[\"#636efa\",\"#EF553B\",\"#00cc96\",\"#ab63fa\",\"#FFA15A\",\"#19d3f3\",\"#FF6692\",\"#B6E880\",\"#FF97FF\",\"#FECB52\"],\"font\":{\"color\":\"#2a3f5f\"},\"hovermode\":\"closest\",\"hoverlabel\":{\"align\":\"left\"},\"paper_bgcolor\":\"white\",\"plot_bgcolor\":\"#E5ECF6\",\"polar\":{\"bgcolor\":\"#E5ECF6\",\"angularaxis\":{\"gridcolor\":\"white\",\"linecolor\":\"white\",\"ticks\":\"\"},\"radialaxis\":{\"gridcolor\":\"white\",\"linecolor\":\"white\",\"ticks\":\"\"}},\"ternary\":{\"bgcolor\":\"#E5ECF6\",\"aaxis\":{\"gridcolor\":\"white\",\"linecolor\":\"white\",\"ticks\":\"\"},\"baxis\":{\"gridcolor\":\"white\",\"linecolor\":\"white\",\"ticks\":\"\"},\"caxis\":{\"gridcolor\":\"white\",\"linecolor\":\"white\",\"ticks\":\"\"}},\"coloraxis\":{\"colorbar\":{\"outlinewidth\":0,\"ticks\":\"\"}},\"colorscale\":{\"sequential\":[[0.0,\"#0d0887\"],[0.1111111111111111,\"#46039f\"],[0.2222222222222222,\"#7201a8\"],[0.3333333333333333,\"#9c179e\"],[0.4444444444444444,\"#bd3786\"],[0.5555555555555556,\"#d8576b\"],[0.6666666666666666,\"#ed7953\"],[0.7777777777777778,\"#fb9f3a\"],[0.8888888888888888,\"#fdca26\"],[1.0,\"#f0f921\"]],\"sequentialminus\":[[0.0,\"#0d0887\"],[0.1111111111111111,\"#46039f\"],[0.2222222222222222,\"#7201a8\"],[0.3333333333333333,\"#9c179e\"],[0.4444444444444444,\"#bd3786\"],[0.5555555555555556,\"#d8576b\"],[0.6666666666666666,\"#ed7953\"],[0.7777777777777778,\"#fb9f3a\"],[0.8888888888888888,\"#fdca26\"],[1.0,\"#f0f921\"]],\"diverging\":[[0,\"#8e0152\"],[0.1,\"#c51b7d\"],[0.2,\"#de77ae\"],[0.3,\"#f1b6da\"],[0.4,\"#fde0ef\"],[0.5,\"#f7f7f7\"],[0.6,\"#e6f5d0\"],[0.7,\"#b8e186\"],[0.8,\"#7fbc41\"],[0.9,\"#4d9221\"],[1,\"#276419\"]]},\"xaxis\":{\"gridcolor\":\"white\",\"linecolor\":\"white\",\"ticks\":\"\",\"title\":{\"standoff\":15},\"zerolinecolor\":\"white\",\"automargin\":true,\"zerolinewidth\":2},\"yaxis\":{\"gridcolor\":\"white\",\"linecolor\":\"white\",\"ticks\":\"\",\"title\":{\"standoff\":15},\"zerolinecolor\":\"white\",\"automargin\":true,\"zerolinewidth\":2},\"scene\":{\"xaxis\":{\"backgroundcolor\":\"#E5ECF6\",\"gridcolor\":\"white\",\"linecolor\":\"white\",\"showbackground\":true,\"ticks\":\"\",\"zerolinecolor\":\"white\",\"gridwidth\":2},\"yaxis\":{\"backgroundcolor\":\"#E5ECF6\",\"gridcolor\":\"white\",\"linecolor\":\"white\",\"showbackground\":true,\"ticks\":\"\",\"zerolinecolor\":\"white\",\"gridwidth\":2},\"zaxis\":{\"backgroundcolor\":\"#E5ECF6\",\"gridcolor\":\"white\",\"linecolor\":\"white\",\"showbackground\":true,\"ticks\":\"\",\"zerolinecolor\":\"white\",\"gridwidth\":2}},\"shapedefaults\":{\"line\":{\"color\":\"#2a3f5f\"}},\"annotationdefaults\":{\"arrowcolor\":\"#2a3f5f\",\"arrowhead\":0,\"arrowwidth\":1},\"geo\":{\"bgcolor\":\"white\",\"landcolor\":\"#E5ECF6\",\"subunitcolor\":\"white\",\"showland\":true,\"showlakes\":true,\"lakecolor\":\"white\"},\"title\":{\"x\":0.05},\"mapbox\":{\"style\":\"light\"}}},\"xaxis\":{\"anchor\":\"y\",\"domain\":[0.0,1.0],\"title\":{\"text\":\"index\"}},\"yaxis\":{\"anchor\":\"x\",\"domain\":[0.0,1.0],\"title\":{\"text\":\"batsman_runs\"}},\"legend\":{\"tracegroupgap\":0},\"margin\":{\"t\":60}},                        {\"responsive\": true}                    ).then(function(){\n",
       "                            \n",
       "var gd = document.getElementById('7fda7d51-cf5e-4e38-9126-3de641096fc6');\n",
       "var x = new MutationObserver(function (mutations, observer) {{\n",
       "        var display = window.getComputedStyle(gd).display;\n",
       "        if (!display || display === 'none') {{\n",
       "            console.log([gd, 'removed!']);\n",
       "            Plotly.purge(gd);\n",
       "            observer.disconnect();\n",
       "        }}\n",
       "}});\n",
       "\n",
       "// Listen for the removal of the full notebook cells\n",
       "var notebookContainer = gd.closest('#notebook-container');\n",
       "if (notebookContainer) {{\n",
       "    x.observe(notebookContainer, {childList: true});\n",
       "}}\n",
       "\n",
       "// Listen for the clearing of the current output cell\n",
       "var outputEl = gd.closest('.output');\n",
       "if (outputEl) {{\n",
       "    x.observe(outputEl, {childList: true});\n",
       "}}\n",
       "\n",
       "                        })                };                });            </script>        </div>"
      ]
     },
     "metadata": {},
     "output_type": "display_data"
    }
   ],
   "source": [
    "fig = px.line(run , x=run.index , y='batsman_runs'  , hover_data='date')\n",
    "fig.show()"
   ]
  },
  {
   "cell_type": "code",
   "execution_count": 86,
   "id": "1db212f0",
   "metadata": {},
   "outputs": [],
   "source": [
    "def graph1(sea):\n",
    "    new = run[run['season'] == sea];\n",
    "    fig = px.line(new , x=new.index , y='batsman_runs' , hover_data='date')\n",
    "    fig.show()"
   ]
  },
  {
   "cell_type": "code",
   "execution_count": 99,
   "id": "9d14967d",
   "metadata": {},
   "outputs": [
    {
     "data": {
      "application/vnd.plotly.v1+json": {
       "config": {
        "plotlyServerURL": "https://plot.ly"
       },
       "data": [
        {
         "customdata": [
          [
           "2008-04-20"
          ],
          [
           "2008-04-22"
          ],
          [
           "2008-04-24"
          ],
          [
           "2008-05-01"
          ],
          [
           "2008-05-25"
          ],
          [
           "2008-05-06"
          ],
          [
           "2008-05-09"
          ],
          [
           "2008-05-11"
          ],
          [
           "2008-05-15"
          ],
          [
           "2008-05-18"
          ],
          [
           "2008-05-23"
          ],
          [
           "2008-05-03"
          ]
         ],
         "hovertemplate": "index=%{x}<br>batsman_runs=%{y}<br>date=%{customdata[0]}<extra></extra>",
         "legendgroup": "",
         "line": {
          "color": "#636efa",
          "dash": "solid"
         },
         "marker": {
          "symbol": "circle"
         },
         "mode": "lines",
         "name": "",
         "orientation": "v",
         "showlegend": false,
         "type": "scatter",
         "x": [
          0,
          1,
          2,
          3,
          4,
          5,
          6,
          7,
          8,
          9,
          10,
          11
         ],
         "xaxis": "x",
         "y": [
          0,
          66,
          36,
          76,
          17,
          23,
          5,
          33,
          35,
          6,
          50,
          57
         ],
         "yaxis": "y"
        }
       ],
       "layout": {
        "legend": {
         "tracegroupgap": 0
        },
        "margin": {
         "t": 60
        },
        "template": {
         "data": {
          "bar": [
           {
            "error_x": {
             "color": "#2a3f5f"
            },
            "error_y": {
             "color": "#2a3f5f"
            },
            "marker": {
             "line": {
              "color": "#E5ECF6",
              "width": 0.5
             },
             "pattern": {
              "fillmode": "overlay",
              "size": 10,
              "solidity": 0.2
             }
            },
            "type": "bar"
           }
          ],
          "barpolar": [
           {
            "marker": {
             "line": {
              "color": "#E5ECF6",
              "width": 0.5
             },
             "pattern": {
              "fillmode": "overlay",
              "size": 10,
              "solidity": 0.2
             }
            },
            "type": "barpolar"
           }
          ],
          "carpet": [
           {
            "aaxis": {
             "endlinecolor": "#2a3f5f",
             "gridcolor": "white",
             "linecolor": "white",
             "minorgridcolor": "white",
             "startlinecolor": "#2a3f5f"
            },
            "baxis": {
             "endlinecolor": "#2a3f5f",
             "gridcolor": "white",
             "linecolor": "white",
             "minorgridcolor": "white",
             "startlinecolor": "#2a3f5f"
            },
            "type": "carpet"
           }
          ],
          "choropleth": [
           {
            "colorbar": {
             "outlinewidth": 0,
             "ticks": ""
            },
            "type": "choropleth"
           }
          ],
          "contour": [
           {
            "colorbar": {
             "outlinewidth": 0,
             "ticks": ""
            },
            "colorscale": [
             [
              0,
              "#0d0887"
             ],
             [
              0.1111111111111111,
              "#46039f"
             ],
             [
              0.2222222222222222,
              "#7201a8"
             ],
             [
              0.3333333333333333,
              "#9c179e"
             ],
             [
              0.4444444444444444,
              "#bd3786"
             ],
             [
              0.5555555555555556,
              "#d8576b"
             ],
             [
              0.6666666666666666,
              "#ed7953"
             ],
             [
              0.7777777777777778,
              "#fb9f3a"
             ],
             [
              0.8888888888888888,
              "#fdca26"
             ],
             [
              1,
              "#f0f921"
             ]
            ],
            "type": "contour"
           }
          ],
          "contourcarpet": [
           {
            "colorbar": {
             "outlinewidth": 0,
             "ticks": ""
            },
            "type": "contourcarpet"
           }
          ],
          "heatmap": [
           {
            "colorbar": {
             "outlinewidth": 0,
             "ticks": ""
            },
            "colorscale": [
             [
              0,
              "#0d0887"
             ],
             [
              0.1111111111111111,
              "#46039f"
             ],
             [
              0.2222222222222222,
              "#7201a8"
             ],
             [
              0.3333333333333333,
              "#9c179e"
             ],
             [
              0.4444444444444444,
              "#bd3786"
             ],
             [
              0.5555555555555556,
              "#d8576b"
             ],
             [
              0.6666666666666666,
              "#ed7953"
             ],
             [
              0.7777777777777778,
              "#fb9f3a"
             ],
             [
              0.8888888888888888,
              "#fdca26"
             ],
             [
              1,
              "#f0f921"
             ]
            ],
            "type": "heatmap"
           }
          ],
          "heatmapgl": [
           {
            "colorbar": {
             "outlinewidth": 0,
             "ticks": ""
            },
            "colorscale": [
             [
              0,
              "#0d0887"
             ],
             [
              0.1111111111111111,
              "#46039f"
             ],
             [
              0.2222222222222222,
              "#7201a8"
             ],
             [
              0.3333333333333333,
              "#9c179e"
             ],
             [
              0.4444444444444444,
              "#bd3786"
             ],
             [
              0.5555555555555556,
              "#d8576b"
             ],
             [
              0.6666666666666666,
              "#ed7953"
             ],
             [
              0.7777777777777778,
              "#fb9f3a"
             ],
             [
              0.8888888888888888,
              "#fdca26"
             ],
             [
              1,
              "#f0f921"
             ]
            ],
            "type": "heatmapgl"
           }
          ],
          "histogram": [
           {
            "marker": {
             "pattern": {
              "fillmode": "overlay",
              "size": 10,
              "solidity": 0.2
             }
            },
            "type": "histogram"
           }
          ],
          "histogram2d": [
           {
            "colorbar": {
             "outlinewidth": 0,
             "ticks": ""
            },
            "colorscale": [
             [
              0,
              "#0d0887"
             ],
             [
              0.1111111111111111,
              "#46039f"
             ],
             [
              0.2222222222222222,
              "#7201a8"
             ],
             [
              0.3333333333333333,
              "#9c179e"
             ],
             [
              0.4444444444444444,
              "#bd3786"
             ],
             [
              0.5555555555555556,
              "#d8576b"
             ],
             [
              0.6666666666666666,
              "#ed7953"
             ],
             [
              0.7777777777777778,
              "#fb9f3a"
             ],
             [
              0.8888888888888888,
              "#fdca26"
             ],
             [
              1,
              "#f0f921"
             ]
            ],
            "type": "histogram2d"
           }
          ],
          "histogram2dcontour": [
           {
            "colorbar": {
             "outlinewidth": 0,
             "ticks": ""
            },
            "colorscale": [
             [
              0,
              "#0d0887"
             ],
             [
              0.1111111111111111,
              "#46039f"
             ],
             [
              0.2222222222222222,
              "#7201a8"
             ],
             [
              0.3333333333333333,
              "#9c179e"
             ],
             [
              0.4444444444444444,
              "#bd3786"
             ],
             [
              0.5555555555555556,
              "#d8576b"
             ],
             [
              0.6666666666666666,
              "#ed7953"
             ],
             [
              0.7777777777777778,
              "#fb9f3a"
             ],
             [
              0.8888888888888888,
              "#fdca26"
             ],
             [
              1,
              "#f0f921"
             ]
            ],
            "type": "histogram2dcontour"
           }
          ],
          "mesh3d": [
           {
            "colorbar": {
             "outlinewidth": 0,
             "ticks": ""
            },
            "type": "mesh3d"
           }
          ],
          "parcoords": [
           {
            "line": {
             "colorbar": {
              "outlinewidth": 0,
              "ticks": ""
             }
            },
            "type": "parcoords"
           }
          ],
          "pie": [
           {
            "automargin": true,
            "type": "pie"
           }
          ],
          "scatter": [
           {
            "fillpattern": {
             "fillmode": "overlay",
             "size": 10,
             "solidity": 0.2
            },
            "type": "scatter"
           }
          ],
          "scatter3d": [
           {
            "line": {
             "colorbar": {
              "outlinewidth": 0,
              "ticks": ""
             }
            },
            "marker": {
             "colorbar": {
              "outlinewidth": 0,
              "ticks": ""
             }
            },
            "type": "scatter3d"
           }
          ],
          "scattercarpet": [
           {
            "marker": {
             "colorbar": {
              "outlinewidth": 0,
              "ticks": ""
             }
            },
            "type": "scattercarpet"
           }
          ],
          "scattergeo": [
           {
            "marker": {
             "colorbar": {
              "outlinewidth": 0,
              "ticks": ""
             }
            },
            "type": "scattergeo"
           }
          ],
          "scattergl": [
           {
            "marker": {
             "colorbar": {
              "outlinewidth": 0,
              "ticks": ""
             }
            },
            "type": "scattergl"
           }
          ],
          "scattermapbox": [
           {
            "marker": {
             "colorbar": {
              "outlinewidth": 0,
              "ticks": ""
             }
            },
            "type": "scattermapbox"
           }
          ],
          "scatterpolar": [
           {
            "marker": {
             "colorbar": {
              "outlinewidth": 0,
              "ticks": ""
             }
            },
            "type": "scatterpolar"
           }
          ],
          "scatterpolargl": [
           {
            "marker": {
             "colorbar": {
              "outlinewidth": 0,
              "ticks": ""
             }
            },
            "type": "scatterpolargl"
           }
          ],
          "scatterternary": [
           {
            "marker": {
             "colorbar": {
              "outlinewidth": 0,
              "ticks": ""
             }
            },
            "type": "scatterternary"
           }
          ],
          "surface": [
           {
            "colorbar": {
             "outlinewidth": 0,
             "ticks": ""
            },
            "colorscale": [
             [
              0,
              "#0d0887"
             ],
             [
              0.1111111111111111,
              "#46039f"
             ],
             [
              0.2222222222222222,
              "#7201a8"
             ],
             [
              0.3333333333333333,
              "#9c179e"
             ],
             [
              0.4444444444444444,
              "#bd3786"
             ],
             [
              0.5555555555555556,
              "#d8576b"
             ],
             [
              0.6666666666666666,
              "#ed7953"
             ],
             [
              0.7777777777777778,
              "#fb9f3a"
             ],
             [
              0.8888888888888888,
              "#fdca26"
             ],
             [
              1,
              "#f0f921"
             ]
            ],
            "type": "surface"
           }
          ],
          "table": [
           {
            "cells": {
             "fill": {
              "color": "#EBF0F8"
             },
             "line": {
              "color": "white"
             }
            },
            "header": {
             "fill": {
              "color": "#C8D4E3"
             },
             "line": {
              "color": "white"
             }
            },
            "type": "table"
           }
          ]
         },
         "layout": {
          "annotationdefaults": {
           "arrowcolor": "#2a3f5f",
           "arrowhead": 0,
           "arrowwidth": 1
          },
          "autotypenumbers": "strict",
          "coloraxis": {
           "colorbar": {
            "outlinewidth": 0,
            "ticks": ""
           }
          },
          "colorscale": {
           "diverging": [
            [
             0,
             "#8e0152"
            ],
            [
             0.1,
             "#c51b7d"
            ],
            [
             0.2,
             "#de77ae"
            ],
            [
             0.3,
             "#f1b6da"
            ],
            [
             0.4,
             "#fde0ef"
            ],
            [
             0.5,
             "#f7f7f7"
            ],
            [
             0.6,
             "#e6f5d0"
            ],
            [
             0.7,
             "#b8e186"
            ],
            [
             0.8,
             "#7fbc41"
            ],
            [
             0.9,
             "#4d9221"
            ],
            [
             1,
             "#276419"
            ]
           ],
           "sequential": [
            [
             0,
             "#0d0887"
            ],
            [
             0.1111111111111111,
             "#46039f"
            ],
            [
             0.2222222222222222,
             "#7201a8"
            ],
            [
             0.3333333333333333,
             "#9c179e"
            ],
            [
             0.4444444444444444,
             "#bd3786"
            ],
            [
             0.5555555555555556,
             "#d8576b"
            ],
            [
             0.6666666666666666,
             "#ed7953"
            ],
            [
             0.7777777777777778,
             "#fb9f3a"
            ],
            [
             0.8888888888888888,
             "#fdca26"
            ],
            [
             1,
             "#f0f921"
            ]
           ],
           "sequentialminus": [
            [
             0,
             "#0d0887"
            ],
            [
             0.1111111111111111,
             "#46039f"
            ],
            [
             0.2222222222222222,
             "#7201a8"
            ],
            [
             0.3333333333333333,
             "#9c179e"
            ],
            [
             0.4444444444444444,
             "#bd3786"
            ],
            [
             0.5555555555555556,
             "#d8576b"
            ],
            [
             0.6666666666666666,
             "#ed7953"
            ],
            [
             0.7777777777777778,
             "#fb9f3a"
            ],
            [
             0.8888888888888888,
             "#fdca26"
            ],
            [
             1,
             "#f0f921"
            ]
           ]
          },
          "colorway": [
           "#636efa",
           "#EF553B",
           "#00cc96",
           "#ab63fa",
           "#FFA15A",
           "#19d3f3",
           "#FF6692",
           "#B6E880",
           "#FF97FF",
           "#FECB52"
          ],
          "font": {
           "color": "#2a3f5f"
          },
          "geo": {
           "bgcolor": "white",
           "lakecolor": "white",
           "landcolor": "#E5ECF6",
           "showlakes": true,
           "showland": true,
           "subunitcolor": "white"
          },
          "hoverlabel": {
           "align": "left"
          },
          "hovermode": "closest",
          "mapbox": {
           "style": "light"
          },
          "paper_bgcolor": "white",
          "plot_bgcolor": "#E5ECF6",
          "polar": {
           "angularaxis": {
            "gridcolor": "white",
            "linecolor": "white",
            "ticks": ""
           },
           "bgcolor": "#E5ECF6",
           "radialaxis": {
            "gridcolor": "white",
            "linecolor": "white",
            "ticks": ""
           }
          },
          "scene": {
           "xaxis": {
            "backgroundcolor": "#E5ECF6",
            "gridcolor": "white",
            "gridwidth": 2,
            "linecolor": "white",
            "showbackground": true,
            "ticks": "",
            "zerolinecolor": "white"
           },
           "yaxis": {
            "backgroundcolor": "#E5ECF6",
            "gridcolor": "white",
            "gridwidth": 2,
            "linecolor": "white",
            "showbackground": true,
            "ticks": "",
            "zerolinecolor": "white"
           },
           "zaxis": {
            "backgroundcolor": "#E5ECF6",
            "gridcolor": "white",
            "gridwidth": 2,
            "linecolor": "white",
            "showbackground": true,
            "ticks": "",
            "zerolinecolor": "white"
           }
          },
          "shapedefaults": {
           "line": {
            "color": "#2a3f5f"
           }
          },
          "ternary": {
           "aaxis": {
            "gridcolor": "white",
            "linecolor": "white",
            "ticks": ""
           },
           "baxis": {
            "gridcolor": "white",
            "linecolor": "white",
            "ticks": ""
           },
           "bgcolor": "#E5ECF6",
           "caxis": {
            "gridcolor": "white",
            "linecolor": "white",
            "ticks": ""
           }
          },
          "title": {
           "x": 0.05
          },
          "xaxis": {
           "automargin": true,
           "gridcolor": "white",
           "linecolor": "white",
           "ticks": "",
           "title": {
            "standoff": 15
           },
           "zerolinecolor": "white",
           "zerolinewidth": 2
          },
          "yaxis": {
           "automargin": true,
           "gridcolor": "white",
           "linecolor": "white",
           "ticks": "",
           "title": {
            "standoff": 15
           },
           "zerolinecolor": "white",
           "zerolinewidth": 2
          }
         }
        },
        "xaxis": {
         "anchor": "y",
         "domain": [
          0,
          1
         ],
         "title": {
          "text": "index"
         }
        },
        "yaxis": {
         "anchor": "x",
         "domain": [
          0,
          1
         ],
         "title": {
          "text": "batsman_runs"
         }
        }
       }
      },
      "text/html": [
       "<div>                            <div id=\"f2d8ba05-f418-43d2-83d3-1103b344c4a0\" class=\"plotly-graph-div\" style=\"height:525px; width:100%;\"></div>            <script type=\"text/javascript\">                require([\"plotly\"], function(Plotly) {                    window.PLOTLYENV=window.PLOTLYENV || {};                                    if (document.getElementById(\"f2d8ba05-f418-43d2-83d3-1103b344c4a0\")) {                    Plotly.newPlot(                        \"f2d8ba05-f418-43d2-83d3-1103b344c4a0\",                        [{\"customdata\":[[\"2008-04-20\"],[\"2008-04-22\"],[\"2008-04-24\"],[\"2008-05-01\"],[\"2008-05-25\"],[\"2008-05-06\"],[\"2008-05-09\"],[\"2008-05-11\"],[\"2008-05-15\"],[\"2008-05-18\"],[\"2008-05-23\"],[\"2008-05-03\"]],\"hovertemplate\":\"index=%{x}\\u003cbr\\u003ebatsman_runs=%{y}\\u003cbr\\u003edate=%{customdata[0]}\\u003cextra\\u003e\\u003c\\u002fextra\\u003e\",\"legendgroup\":\"\",\"line\":{\"color\":\"#636efa\",\"dash\":\"solid\"},\"marker\":{\"symbol\":\"circle\"},\"mode\":\"lines\",\"name\":\"\",\"orientation\":\"v\",\"showlegend\":false,\"x\":[0,1,2,3,4,5,6,7,8,9,10,11],\"xaxis\":\"x\",\"y\":[0,66,36,76,17,23,5,33,35,6,50,57],\"yaxis\":\"y\",\"type\":\"scatter\"}],                        {\"template\":{\"data\":{\"histogram2dcontour\":[{\"type\":\"histogram2dcontour\",\"colorbar\":{\"outlinewidth\":0,\"ticks\":\"\"},\"colorscale\":[[0.0,\"#0d0887\"],[0.1111111111111111,\"#46039f\"],[0.2222222222222222,\"#7201a8\"],[0.3333333333333333,\"#9c179e\"],[0.4444444444444444,\"#bd3786\"],[0.5555555555555556,\"#d8576b\"],[0.6666666666666666,\"#ed7953\"],[0.7777777777777778,\"#fb9f3a\"],[0.8888888888888888,\"#fdca26\"],[1.0,\"#f0f921\"]]}],\"choropleth\":[{\"type\":\"choropleth\",\"colorbar\":{\"outlinewidth\":0,\"ticks\":\"\"}}],\"histogram2d\":[{\"type\":\"histogram2d\",\"colorbar\":{\"outlinewidth\":0,\"ticks\":\"\"},\"colorscale\":[[0.0,\"#0d0887\"],[0.1111111111111111,\"#46039f\"],[0.2222222222222222,\"#7201a8\"],[0.3333333333333333,\"#9c179e\"],[0.4444444444444444,\"#bd3786\"],[0.5555555555555556,\"#d8576b\"],[0.6666666666666666,\"#ed7953\"],[0.7777777777777778,\"#fb9f3a\"],[0.8888888888888888,\"#fdca26\"],[1.0,\"#f0f921\"]]}],\"heatmap\":[{\"type\":\"heatmap\",\"colorbar\":{\"outlinewidth\":0,\"ticks\":\"\"},\"colorscale\":[[0.0,\"#0d0887\"],[0.1111111111111111,\"#46039f\"],[0.2222222222222222,\"#7201a8\"],[0.3333333333333333,\"#9c179e\"],[0.4444444444444444,\"#bd3786\"],[0.5555555555555556,\"#d8576b\"],[0.6666666666666666,\"#ed7953\"],[0.7777777777777778,\"#fb9f3a\"],[0.8888888888888888,\"#fdca26\"],[1.0,\"#f0f921\"]]}],\"heatmapgl\":[{\"type\":\"heatmapgl\",\"colorbar\":{\"outlinewidth\":0,\"ticks\":\"\"},\"colorscale\":[[0.0,\"#0d0887\"],[0.1111111111111111,\"#46039f\"],[0.2222222222222222,\"#7201a8\"],[0.3333333333333333,\"#9c179e\"],[0.4444444444444444,\"#bd3786\"],[0.5555555555555556,\"#d8576b\"],[0.6666666666666666,\"#ed7953\"],[0.7777777777777778,\"#fb9f3a\"],[0.8888888888888888,\"#fdca26\"],[1.0,\"#f0f921\"]]}],\"contourcarpet\":[{\"type\":\"contourcarpet\",\"colorbar\":{\"outlinewidth\":0,\"ticks\":\"\"}}],\"contour\":[{\"type\":\"contour\",\"colorbar\":{\"outlinewidth\":0,\"ticks\":\"\"},\"colorscale\":[[0.0,\"#0d0887\"],[0.1111111111111111,\"#46039f\"],[0.2222222222222222,\"#7201a8\"],[0.3333333333333333,\"#9c179e\"],[0.4444444444444444,\"#bd3786\"],[0.5555555555555556,\"#d8576b\"],[0.6666666666666666,\"#ed7953\"],[0.7777777777777778,\"#fb9f3a\"],[0.8888888888888888,\"#fdca26\"],[1.0,\"#f0f921\"]]}],\"surface\":[{\"type\":\"surface\",\"colorbar\":{\"outlinewidth\":0,\"ticks\":\"\"},\"colorscale\":[[0.0,\"#0d0887\"],[0.1111111111111111,\"#46039f\"],[0.2222222222222222,\"#7201a8\"],[0.3333333333333333,\"#9c179e\"],[0.4444444444444444,\"#bd3786\"],[0.5555555555555556,\"#d8576b\"],[0.6666666666666666,\"#ed7953\"],[0.7777777777777778,\"#fb9f3a\"],[0.8888888888888888,\"#fdca26\"],[1.0,\"#f0f921\"]]}],\"mesh3d\":[{\"type\":\"mesh3d\",\"colorbar\":{\"outlinewidth\":0,\"ticks\":\"\"}}],\"scatter\":[{\"fillpattern\":{\"fillmode\":\"overlay\",\"size\":10,\"solidity\":0.2},\"type\":\"scatter\"}],\"parcoords\":[{\"type\":\"parcoords\",\"line\":{\"colorbar\":{\"outlinewidth\":0,\"ticks\":\"\"}}}],\"scatterpolargl\":[{\"type\":\"scatterpolargl\",\"marker\":{\"colorbar\":{\"outlinewidth\":0,\"ticks\":\"\"}}}],\"bar\":[{\"error_x\":{\"color\":\"#2a3f5f\"},\"error_y\":{\"color\":\"#2a3f5f\"},\"marker\":{\"line\":{\"color\":\"#E5ECF6\",\"width\":0.5},\"pattern\":{\"fillmode\":\"overlay\",\"size\":10,\"solidity\":0.2}},\"type\":\"bar\"}],\"scattergeo\":[{\"type\":\"scattergeo\",\"marker\":{\"colorbar\":{\"outlinewidth\":0,\"ticks\":\"\"}}}],\"scatterpolar\":[{\"type\":\"scatterpolar\",\"marker\":{\"colorbar\":{\"outlinewidth\":0,\"ticks\":\"\"}}}],\"histogram\":[{\"marker\":{\"pattern\":{\"fillmode\":\"overlay\",\"size\":10,\"solidity\":0.2}},\"type\":\"histogram\"}],\"scattergl\":[{\"type\":\"scattergl\",\"marker\":{\"colorbar\":{\"outlinewidth\":0,\"ticks\":\"\"}}}],\"scatter3d\":[{\"type\":\"scatter3d\",\"line\":{\"colorbar\":{\"outlinewidth\":0,\"ticks\":\"\"}},\"marker\":{\"colorbar\":{\"outlinewidth\":0,\"ticks\":\"\"}}}],\"scattermapbox\":[{\"type\":\"scattermapbox\",\"marker\":{\"colorbar\":{\"outlinewidth\":0,\"ticks\":\"\"}}}],\"scatterternary\":[{\"type\":\"scatterternary\",\"marker\":{\"colorbar\":{\"outlinewidth\":0,\"ticks\":\"\"}}}],\"scattercarpet\":[{\"type\":\"scattercarpet\",\"marker\":{\"colorbar\":{\"outlinewidth\":0,\"ticks\":\"\"}}}],\"carpet\":[{\"aaxis\":{\"endlinecolor\":\"#2a3f5f\",\"gridcolor\":\"white\",\"linecolor\":\"white\",\"minorgridcolor\":\"white\",\"startlinecolor\":\"#2a3f5f\"},\"baxis\":{\"endlinecolor\":\"#2a3f5f\",\"gridcolor\":\"white\",\"linecolor\":\"white\",\"minorgridcolor\":\"white\",\"startlinecolor\":\"#2a3f5f\"},\"type\":\"carpet\"}],\"table\":[{\"cells\":{\"fill\":{\"color\":\"#EBF0F8\"},\"line\":{\"color\":\"white\"}},\"header\":{\"fill\":{\"color\":\"#C8D4E3\"},\"line\":{\"color\":\"white\"}},\"type\":\"table\"}],\"barpolar\":[{\"marker\":{\"line\":{\"color\":\"#E5ECF6\",\"width\":0.5},\"pattern\":{\"fillmode\":\"overlay\",\"size\":10,\"solidity\":0.2}},\"type\":\"barpolar\"}],\"pie\":[{\"automargin\":true,\"type\":\"pie\"}]},\"layout\":{\"autotypenumbers\":\"strict\",\"colorway\":[\"#636efa\",\"#EF553B\",\"#00cc96\",\"#ab63fa\",\"#FFA15A\",\"#19d3f3\",\"#FF6692\",\"#B6E880\",\"#FF97FF\",\"#FECB52\"],\"font\":{\"color\":\"#2a3f5f\"},\"hovermode\":\"closest\",\"hoverlabel\":{\"align\":\"left\"},\"paper_bgcolor\":\"white\",\"plot_bgcolor\":\"#E5ECF6\",\"polar\":{\"bgcolor\":\"#E5ECF6\",\"angularaxis\":{\"gridcolor\":\"white\",\"linecolor\":\"white\",\"ticks\":\"\"},\"radialaxis\":{\"gridcolor\":\"white\",\"linecolor\":\"white\",\"ticks\":\"\"}},\"ternary\":{\"bgcolor\":\"#E5ECF6\",\"aaxis\":{\"gridcolor\":\"white\",\"linecolor\":\"white\",\"ticks\":\"\"},\"baxis\":{\"gridcolor\":\"white\",\"linecolor\":\"white\",\"ticks\":\"\"},\"caxis\":{\"gridcolor\":\"white\",\"linecolor\":\"white\",\"ticks\":\"\"}},\"coloraxis\":{\"colorbar\":{\"outlinewidth\":0,\"ticks\":\"\"}},\"colorscale\":{\"sequential\":[[0.0,\"#0d0887\"],[0.1111111111111111,\"#46039f\"],[0.2222222222222222,\"#7201a8\"],[0.3333333333333333,\"#9c179e\"],[0.4444444444444444,\"#bd3786\"],[0.5555555555555556,\"#d8576b\"],[0.6666666666666666,\"#ed7953\"],[0.7777777777777778,\"#fb9f3a\"],[0.8888888888888888,\"#fdca26\"],[1.0,\"#f0f921\"]],\"sequentialminus\":[[0.0,\"#0d0887\"],[0.1111111111111111,\"#46039f\"],[0.2222222222222222,\"#7201a8\"],[0.3333333333333333,\"#9c179e\"],[0.4444444444444444,\"#bd3786\"],[0.5555555555555556,\"#d8576b\"],[0.6666666666666666,\"#ed7953\"],[0.7777777777777778,\"#fb9f3a\"],[0.8888888888888888,\"#fdca26\"],[1.0,\"#f0f921\"]],\"diverging\":[[0,\"#8e0152\"],[0.1,\"#c51b7d\"],[0.2,\"#de77ae\"],[0.3,\"#f1b6da\"],[0.4,\"#fde0ef\"],[0.5,\"#f7f7f7\"],[0.6,\"#e6f5d0\"],[0.7,\"#b8e186\"],[0.8,\"#7fbc41\"],[0.9,\"#4d9221\"],[1,\"#276419\"]]},\"xaxis\":{\"gridcolor\":\"white\",\"linecolor\":\"white\",\"ticks\":\"\",\"title\":{\"standoff\":15},\"zerolinecolor\":\"white\",\"automargin\":true,\"zerolinewidth\":2},\"yaxis\":{\"gridcolor\":\"white\",\"linecolor\":\"white\",\"ticks\":\"\",\"title\":{\"standoff\":15},\"zerolinecolor\":\"white\",\"automargin\":true,\"zerolinewidth\":2},\"scene\":{\"xaxis\":{\"backgroundcolor\":\"#E5ECF6\",\"gridcolor\":\"white\",\"linecolor\":\"white\",\"showbackground\":true,\"ticks\":\"\",\"zerolinecolor\":\"white\",\"gridwidth\":2},\"yaxis\":{\"backgroundcolor\":\"#E5ECF6\",\"gridcolor\":\"white\",\"linecolor\":\"white\",\"showbackground\":true,\"ticks\":\"\",\"zerolinecolor\":\"white\",\"gridwidth\":2},\"zaxis\":{\"backgroundcolor\":\"#E5ECF6\",\"gridcolor\":\"white\",\"linecolor\":\"white\",\"showbackground\":true,\"ticks\":\"\",\"zerolinecolor\":\"white\",\"gridwidth\":2}},\"shapedefaults\":{\"line\":{\"color\":\"#2a3f5f\"}},\"annotationdefaults\":{\"arrowcolor\":\"#2a3f5f\",\"arrowhead\":0,\"arrowwidth\":1},\"geo\":{\"bgcolor\":\"white\",\"landcolor\":\"#E5ECF6\",\"subunitcolor\":\"white\",\"showland\":true,\"showlakes\":true,\"lakecolor\":\"white\"},\"title\":{\"x\":0.05},\"mapbox\":{\"style\":\"light\"}}},\"xaxis\":{\"anchor\":\"y\",\"domain\":[0.0,1.0],\"title\":{\"text\":\"index\"}},\"yaxis\":{\"anchor\":\"x\",\"domain\":[0.0,1.0],\"title\":{\"text\":\"batsman_runs\"}},\"legend\":{\"tracegroupgap\":0},\"margin\":{\"t\":60}},                        {\"responsive\": true}                    ).then(function(){\n",
       "                            \n",
       "var gd = document.getElementById('f2d8ba05-f418-43d2-83d3-1103b344c4a0');\n",
       "var x = new MutationObserver(function (mutations, observer) {{\n",
       "        var display = window.getComputedStyle(gd).display;\n",
       "        if (!display || display === 'none') {{\n",
       "            console.log([gd, 'removed!']);\n",
       "            Plotly.purge(gd);\n",
       "            observer.disconnect();\n",
       "        }}\n",
       "}});\n",
       "\n",
       "// Listen for the removal of the full notebook cells\n",
       "var notebookContainer = gd.closest('#notebook-container');\n",
       "if (notebookContainer) {{\n",
       "    x.observe(notebookContainer, {childList: true});\n",
       "}}\n",
       "\n",
       "// Listen for the clearing of the current output cell\n",
       "var outputEl = gd.closest('.output');\n",
       "if (outputEl) {{\n",
       "    x.observe(outputEl, {childList: true});\n",
       "}}\n",
       "\n",
       "                        })                };                });            </script>        </div>"
      ]
     },
     "metadata": {},
     "output_type": "display_data"
    }
   ],
   "source": [
    "graph1(2008)"
   ]
  },
  {
   "cell_type": "code",
   "execution_count": 104,
   "id": "10d2b484",
   "metadata": {},
   "outputs": [
    {
     "data": {
      "text/plain": [
       "0      0\n",
       "1      1\n",
       "2      0\n",
       "3      1\n",
       "4      0\n",
       "      ..\n",
       "189    0\n",
       "190    0\n",
       "191    0\n",
       "192    0\n",
       "193    1\n",
       "Name: batsman_runs, Length: 194, dtype: int64"
      ]
     },
     "execution_count": 104,
     "metadata": {},
     "output_type": "execute_result"
    }
   ],
   "source": [
    "ct = 0;\n",
    "def fifty(x):\n",
    "    global ct;\n",
    "    if x>=50 and x<100:\n",
    "        return 1;\n",
    "    return 0;\n",
    "\n",
    "run.iloc[: , -2].apply(fifty)"
   ]
  },
  {
   "cell_type": "code",
   "execution_count": 93,
   "id": "27c5fb0d",
   "metadata": {},
   "outputs": [
    {
     "data": {
      "text/plain": [
       "0      0\n",
       "1      1\n",
       "2      0\n",
       "3      1\n",
       "4      0\n",
       "      ..\n",
       "189    0\n",
       "190    0\n",
       "191    0\n",
       "192    0\n",
       "193    1\n",
       "Name: batsman_runs, Length: 194, dtype: int64"
      ]
     },
     "execution_count": 93,
     "metadata": {},
     "output_type": "execute_result"
    }
   ],
   "source": [
    "run.iloc[: , -2].apply(fifty)"
   ]
  },
  {
   "cell_type": "code",
   "execution_count": 94,
   "id": "95bdb589",
   "metadata": {},
   "outputs": [],
   "source": [
    "temp = run.copy()"
   ]
  },
  {
   "cell_type": "code",
   "execution_count": 105,
   "id": "3976c460",
   "metadata": {},
   "outputs": [],
   "source": [
    "temp['batsman_runs'] = run.iloc[: , -2].apply(fifty)"
   ]
  },
  {
   "cell_type": "code",
   "execution_count": 97,
   "id": "b6178d20",
   "metadata": {},
   "outputs": [
    {
     "data": {
      "text/html": [
       "<div>\n",
       "<style scoped>\n",
       "    .dataframe tbody tr th:only-of-type {\n",
       "        vertical-align: middle;\n",
       "    }\n",
       "\n",
       "    .dataframe tbody tr th {\n",
       "        vertical-align: top;\n",
       "    }\n",
       "\n",
       "    .dataframe thead th {\n",
       "        text-align: right;\n",
       "    }\n",
       "</style>\n",
       "<table border=\"1\" class=\"dataframe\">\n",
       "  <thead>\n",
       "    <tr style=\"text-align: right;\">\n",
       "      <th></th>\n",
       "      <th>season</th>\n",
       "      <th>id</th>\n",
       "      <th>batsman_runs</th>\n",
       "      <th>date</th>\n",
       "    </tr>\n",
       "  </thead>\n",
       "  <tbody>\n",
       "    <tr>\n",
       "      <th>0</th>\n",
       "      <td>2008</td>\n",
       "      <td>335986</td>\n",
       "      <td>0</td>\n",
       "      <td>2008-04-20</td>\n",
       "    </tr>\n",
       "    <tr>\n",
       "      <th>1</th>\n",
       "      <td>2008</td>\n",
       "      <td>335988</td>\n",
       "      <td>1</td>\n",
       "      <td>2008-04-22</td>\n",
       "    </tr>\n",
       "    <tr>\n",
       "      <th>2</th>\n",
       "      <td>2008</td>\n",
       "      <td>335990</td>\n",
       "      <td>0</td>\n",
       "      <td>2008-04-24</td>\n",
       "    </tr>\n",
       "    <tr>\n",
       "      <th>3</th>\n",
       "      <td>2008</td>\n",
       "      <td>335999</td>\n",
       "      <td>1</td>\n",
       "      <td>2008-05-01</td>\n",
       "    </tr>\n",
       "    <tr>\n",
       "      <th>4</th>\n",
       "      <td>2008</td>\n",
       "      <td>336002</td>\n",
       "      <td>0</td>\n",
       "      <td>2008-05-25</td>\n",
       "    </tr>\n",
       "    <tr>\n",
       "      <th>...</th>\n",
       "      <td>...</td>\n",
       "      <td>...</td>\n",
       "      <td>...</td>\n",
       "      <td>...</td>\n",
       "    </tr>\n",
       "    <tr>\n",
       "      <th>189</th>\n",
       "      <td>2020</td>\n",
       "      <td>1216529</td>\n",
       "      <td>0</td>\n",
       "      <td>2020-10-11</td>\n",
       "    </tr>\n",
       "    <tr>\n",
       "      <th>190</th>\n",
       "      <td>2020</td>\n",
       "      <td>1216538</td>\n",
       "      <td>0</td>\n",
       "      <td>2020-10-04</td>\n",
       "    </tr>\n",
       "    <tr>\n",
       "      <th>191</th>\n",
       "      <td>2020</td>\n",
       "      <td>1216547</td>\n",
       "      <td>0</td>\n",
       "      <td>2020-09-28</td>\n",
       "    </tr>\n",
       "    <tr>\n",
       "      <th>192</th>\n",
       "      <td>2020</td>\n",
       "      <td>1237177</td>\n",
       "      <td>0</td>\n",
       "      <td>2020-11-05</td>\n",
       "    </tr>\n",
       "    <tr>\n",
       "      <th>193</th>\n",
       "      <td>2020</td>\n",
       "      <td>1237181</td>\n",
       "      <td>1</td>\n",
       "      <td>2020-11-10</td>\n",
       "    </tr>\n",
       "  </tbody>\n",
       "</table>\n",
       "<p>194 rows × 4 columns</p>\n",
       "</div>"
      ],
      "text/plain": [
       "     season       id  batsman_runs        date\n",
       "0      2008   335986             0  2008-04-20\n",
       "1      2008   335988             1  2008-04-22\n",
       "2      2008   335990             0  2008-04-24\n",
       "3      2008   335999             1  2008-05-01\n",
       "4      2008   336002             0  2008-05-25\n",
       "..      ...      ...           ...         ...\n",
       "189    2020  1216529             0  2020-10-11\n",
       "190    2020  1216538             0  2020-10-04\n",
       "191    2020  1216547             0  2020-09-28\n",
       "192    2020  1237177             0  2020-11-05\n",
       "193    2020  1237181             1  2020-11-10\n",
       "\n",
       "[194 rows x 4 columns]"
      ]
     },
     "execution_count": 97,
     "metadata": {},
     "output_type": "execute_result"
    }
   ],
   "source": [
    "temp"
   ]
  },
  {
   "cell_type": "code",
   "execution_count": 109,
   "id": "7e67c2c3",
   "metadata": {},
   "outputs": [
    {
     "data": {
      "text/html": [
       "<div>\n",
       "<style scoped>\n",
       "    .dataframe tbody tr th:only-of-type {\n",
       "        vertical-align: middle;\n",
       "    }\n",
       "\n",
       "    .dataframe tbody tr th {\n",
       "        vertical-align: top;\n",
       "    }\n",
       "\n",
       "    .dataframe thead th {\n",
       "        text-align: right;\n",
       "    }\n",
       "</style>\n",
       "<table border=\"1\" class=\"dataframe\">\n",
       "  <thead>\n",
       "    <tr style=\"text-align: right;\">\n",
       "      <th></th>\n",
       "      <th>season</th>\n",
       "      <th>batsman_runs</th>\n",
       "    </tr>\n",
       "  </thead>\n",
       "  <tbody>\n",
       "    <tr>\n",
       "      <th>0</th>\n",
       "      <td>2008</td>\n",
       "      <td>4</td>\n",
       "    </tr>\n",
       "    <tr>\n",
       "      <th>1</th>\n",
       "      <td>2009</td>\n",
       "      <td>1</td>\n",
       "    </tr>\n",
       "    <tr>\n",
       "      <th>2</th>\n",
       "      <td>2010</td>\n",
       "      <td>3</td>\n",
       "    </tr>\n",
       "    <tr>\n",
       "      <th>3</th>\n",
       "      <td>2011</td>\n",
       "      <td>3</td>\n",
       "    </tr>\n",
       "    <tr>\n",
       "      <th>4</th>\n",
       "      <td>2012</td>\n",
       "      <td>3</td>\n",
       "    </tr>\n",
       "    <tr>\n",
       "      <th>5</th>\n",
       "      <td>2013</td>\n",
       "      <td>4</td>\n",
       "    </tr>\n",
       "    <tr>\n",
       "      <th>6</th>\n",
       "      <td>2014</td>\n",
       "      <td>3</td>\n",
       "    </tr>\n",
       "    <tr>\n",
       "      <th>7</th>\n",
       "      <td>2015</td>\n",
       "      <td>3</td>\n",
       "    </tr>\n",
       "    <tr>\n",
       "      <th>8</th>\n",
       "      <td>2016</td>\n",
       "      <td>5</td>\n",
       "    </tr>\n",
       "    <tr>\n",
       "      <th>9</th>\n",
       "      <td>2017</td>\n",
       "      <td>3</td>\n",
       "    </tr>\n",
       "    <tr>\n",
       "      <th>10</th>\n",
       "      <td>2018</td>\n",
       "      <td>2</td>\n",
       "    </tr>\n",
       "    <tr>\n",
       "      <th>11</th>\n",
       "      <td>2019</td>\n",
       "      <td>2</td>\n",
       "    </tr>\n",
       "    <tr>\n",
       "      <th>12</th>\n",
       "      <td>2020</td>\n",
       "      <td>3</td>\n",
       "    </tr>\n",
       "  </tbody>\n",
       "</table>\n",
       "</div>"
      ],
      "text/plain": [
       "    season  batsman_runs\n",
       "0     2008             4\n",
       "1     2009             1\n",
       "2     2010             3\n",
       "3     2011             3\n",
       "4     2012             3\n",
       "5     2013             4\n",
       "6     2014             3\n",
       "7     2015             3\n",
       "8     2016             5\n",
       "9     2017             3\n",
       "10    2018             2\n",
       "11    2019             2\n",
       "12    2020             3"
      ]
     },
     "execution_count": 109,
     "metadata": {},
     "output_type": "execute_result"
    }
   ],
   "source": [
    "temp.groupby('season')['batsman_runs'].sum().reset_index()"
   ]
  },
  {
   "cell_type": "code",
   "execution_count": null,
   "id": "ece69b41",
   "metadata": {},
   "outputs": [],
   "source": []
  }
 ],
 "metadata": {
  "kernelspec": {
   "display_name": "Python 3 (ipykernel)",
   "language": "python",
   "name": "python3"
  },
  "language_info": {
   "codemirror_mode": {
    "name": "ipython",
    "version": 3
   },
   "file_extension": ".py",
   "mimetype": "text/x-python",
   "name": "python",
   "nbconvert_exporter": "python",
   "pygments_lexer": "ipython3",
   "version": "3.10.5"
  }
 },
 "nbformat": 4,
 "nbformat_minor": 5
}
